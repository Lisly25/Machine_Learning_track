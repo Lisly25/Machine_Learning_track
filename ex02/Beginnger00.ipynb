{
  "nbformat": 4,
  "nbformat_minor": 0,
  "metadata": {
    "colab": {
      "provenance": [],
      "toc_visible": true
    },
    "kernelspec": {
      "name": "python3",
      "display_name": "Python 3"
    },
    "language_info": {
      "name": "python"
    }
  },
  "cells": [
    {
      "cell_type": "markdown",
      "source": [
        "**Exercise 02 for Piscine Pro AI /Machine Learning track**\n",
        "\n",
        "Goal of the exercise: train a model to do simple linear regression using sklearn.\n",
        "\n",
        "For 10 years of experience, the model should predict a salary of 119347.82718107398."
      ],
      "metadata": {
        "id": "-e3MjWq1GiYt"
      }
    },
    {
      "cell_type": "code",
      "execution_count": null,
      "metadata": {
        "id": "-nWKdT9aXbvg"
      },
      "outputs": [],
      "source": [
        "import pandas as pd\n",
        "import seaborn as sb\n",
        "from sklearn import preprocessing, svm\n",
        "from sklearn.model_selection import train_test_split\n",
        "from sklearn.linear_model import LinearRegression"
      ]
    },
    {
      "cell_type": "code",
      "source": [
        "from google.colab import files\n",
        "uploaded = pd.read_csv(\"Salary_dataset.csv\")"
      ],
      "metadata": {
        "id": "EU1llokaXoHz"
      },
      "execution_count": null,
      "outputs": []
    },
    {
      "cell_type": "code",
      "source": [
        "dataframe = pd.DataFrame(data=uploaded)\n",
        "x_yearsExperience = pd.array(dataframe[\"YearsExperience\"]).reshape(-1, 1)\n",
        "y_salary = pd.array(dataframe[\"Salary\"]).reshape(-1, 1)"
      ],
      "metadata": {
        "id": "mhsmEojZbK91"
      },
      "execution_count": null,
      "outputs": []
    },
    {
      "cell_type": "code",
      "source": [
        "regression = LinearRegression()\n",
        "regression.fit(x_yearsExperience, y_salary);\n",
        "#print(regression.score(x_yearsExperience, y_salary))"
      ],
      "metadata": {
        "id": "biZpQN7jgxAr"
      },
      "execution_count": 106,
      "outputs": []
    },
    {
      "cell_type": "code",
      "source": [
        "y_pred = regression.predict(x_yearsExperience)\n",
        "x_test_dataframe = pd.DataFrame(data=x_yearsExperience)\n",
        "y_pred_dataframe = pd.DataFrame(data=y_pred)"
      ],
      "metadata": {
        "id": "Br-UcxkIn4RB"
      },
      "execution_count": 102,
      "outputs": []
    },
    {
      "cell_type": "code",
      "source": [
        "years_of_experience = [[10]]\n",
        "salary = regression.predict(years_of_experience)\n",
        "print(\"Predicted salary for 10 years of experience : \", salary[0][0])"
      ],
      "metadata": {
        "id": "IcVxBPWEjia0",
        "colab": {
          "base_uri": "https://localhost:8080/"
        },
        "outputId": "91ee0211-3902-4e70-d18d-69ec16417fc2"
      },
      "execution_count": 104,
      "outputs": [
        {
          "output_type": "stream",
          "name": "stdout",
          "text": [
            "Predicted salary for 10 years of experience :  119347.82718107398\n"
          ]
        }
      ]
    }
  ]
}