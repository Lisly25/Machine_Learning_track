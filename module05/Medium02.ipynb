{
  "nbformat": 4,
  "nbformat_minor": 0,
  "metadata": {
    "colab": {
      "provenance": [],
      "gpuType": "T4"
    },
    "kernelspec": {
      "name": "python3",
      "display_name": "Python 3"
    },
    "language_info": {
      "name": "python"
    },
    "accelerator": "GPU"
  },
  "cells": [
    {
      "cell_type": "code",
      "source": [
        "from google.colab import drive\n",
        "drive.mount(\"/content/drive\")"
      ],
      "metadata": {
        "colab": {
          "base_uri": "https://localhost:8080/"
        },
        "id": "igkNb9mTOCQC",
        "outputId": "d11b43db-c519-440a-f302-91ba5a05b939"
      },
      "execution_count": 4,
      "outputs": [
        {
          "output_type": "stream",
          "name": "stdout",
          "text": [
            "Drive already mounted at /content/drive; to attempt to forcibly remount, call drive.mount(\"/content/drive\", force_remount=True).\n"
          ]
        }
      ]
    },
    {
      "cell_type": "code",
      "execution_count": 5,
      "metadata": {
        "id": "eL9tFRD5N3-G"
      },
      "outputs": [],
      "source": [
        "# import required libraries\n",
        "import pandas as pd\n",
        "import matplotlib.pyplot as plt\n",
        "import seaborn as sns"
      ]
    },
    {
      "cell_type": "code",
      "source": [
        "# Read data\n",
        "file = 'drive/My Drive/Coding/Transactions.csv'\n",
        "df = pd.read_csv(file)\n",
        "\n",
        "print(df.head())"
      ],
      "metadata": {
        "id": "ePtKzDh1OP4w",
        "colab": {
          "base_uri": "https://localhost:8080/"
        },
        "outputId": "60aa6e6d-8d48-42d5-b084-dcfd2d14d0a8"
      },
      "execution_count": 6,
      "outputs": [
        {
          "output_type": "stream",
          "name": "stdout",
          "text": [
            "   Unnamed: 0.1  Unnamed: 0  TRANSACTION_ID          TX_DATETIME  CUSTOMER_ID  \\\n",
            "0             0           0               0  2023-01-01 00:00:31          596   \n",
            "1             1           1               1  2023-01-01 00:02:10         4961   \n",
            "2             2           2               2  2023-01-01 00:07:56            2   \n",
            "3             3           3               3  2023-01-01 00:09:29         4128   \n",
            "4             4           4               4  2023-01-01 00:10:34          927   \n",
            "\n",
            "   TERMINAL_ID  TX_AMOUNT  TX_TIME_SECONDS  TX_TIME_DAYS  \\\n",
            "0         3156     533.07               31             0   \n",
            "1         3412     808.56              130             0   \n",
            "2         1365    1442.94              476             0   \n",
            "3         8737     620.65              569             0   \n",
            "4         9906     490.66              634             0   \n",
            "\n",
            "                 TX_FRAUD_SCENARIO  \n",
            "0           Legitimate Transaction  \n",
            "1           Legitimate Transaction  \n",
            "2  Fraudulent Transaction Internet  \n",
            "3           Legitimate Transaction  \n",
            "4           Legitimate Transaction  \n"
          ]
        }
      ]
    },
    {
      "cell_type": "code",
      "source": [
        "# Data exploration\n",
        "df.describe()\n"
      ],
      "metadata": {
        "id": "X9rAvcL7VyRb",
        "colab": {
          "base_uri": "https://localhost:8080/",
          "height": 300
        },
        "outputId": "36525126-091d-40c1-f305-0fa29d23d8c6"
      },
      "execution_count": 7,
      "outputs": [
        {
          "output_type": "execute_result",
          "data": {
            "text/plain": [
              "       Unnamed: 0.1    Unnamed: 0  TRANSACTION_ID   CUSTOMER_ID   TERMINAL_ID  \\\n",
              "count  1.754155e+06  1.754155e+06    1.754155e+06  1.754155e+06  1.754155e+06   \n",
              "mean   8.770770e+05  8.770770e+05    8.770770e+05  2.504011e+03  4.996733e+03   \n",
              "std    5.063811e+05  5.063811e+05    5.063811e+05  1.445987e+03  2.886101e+03   \n",
              "min    0.000000e+00  0.000000e+00    0.000000e+00  0.000000e+00  0.000000e+00   \n",
              "25%    4.385385e+05  4.385385e+05    4.385385e+05  1.252000e+03  2.502000e+03   \n",
              "50%    8.770770e+05  8.770770e+05    8.770770e+05  2.506000e+03  4.994000e+03   \n",
              "75%    1.315616e+06  1.315616e+06    1.315616e+06  3.765000e+03  7.495000e+03   \n",
              "max    1.754154e+06  1.754154e+06    1.754154e+06  4.999000e+03  9.999000e+03   \n",
              "\n",
              "          TX_AMOUNT  TX_TIME_SECONDS  TX_TIME_DAYS  \n",
              "count  1.754155e+06     1.754155e+06  1.754155e+06  \n",
              "mean   5.396820e+02     7.903234e+06  9.097260e+01  \n",
              "std    1.179711e+03     4.565172e+06  5.283709e+01  \n",
              "min    0.000000e+00     3.100000e+01  0.000000e+00  \n",
              "25%    1.799500e+02     3.940846e+06  4.500000e+01  \n",
              "50%    4.217500e+02     7.902670e+06  9.100000e+01  \n",
              "75%    7.505950e+02     1.186566e+07  1.370000e+02  \n",
              "max    6.478375e+05     1.581120e+07  1.820000e+02  "
            ],
            "text/html": [
              "\n",
              "  <div id=\"df-ccfc7e94-2b1e-405e-8d42-bfef4b260d93\" class=\"colab-df-container\">\n",
              "    <div>\n",
              "<style scoped>\n",
              "    .dataframe tbody tr th:only-of-type {\n",
              "        vertical-align: middle;\n",
              "    }\n",
              "\n",
              "    .dataframe tbody tr th {\n",
              "        vertical-align: top;\n",
              "    }\n",
              "\n",
              "    .dataframe thead th {\n",
              "        text-align: right;\n",
              "    }\n",
              "</style>\n",
              "<table border=\"1\" class=\"dataframe\">\n",
              "  <thead>\n",
              "    <tr style=\"text-align: right;\">\n",
              "      <th></th>\n",
              "      <th>Unnamed: 0.1</th>\n",
              "      <th>Unnamed: 0</th>\n",
              "      <th>TRANSACTION_ID</th>\n",
              "      <th>CUSTOMER_ID</th>\n",
              "      <th>TERMINAL_ID</th>\n",
              "      <th>TX_AMOUNT</th>\n",
              "      <th>TX_TIME_SECONDS</th>\n",
              "      <th>TX_TIME_DAYS</th>\n",
              "    </tr>\n",
              "  </thead>\n",
              "  <tbody>\n",
              "    <tr>\n",
              "      <th>count</th>\n",
              "      <td>1.754155e+06</td>\n",
              "      <td>1.754155e+06</td>\n",
              "      <td>1.754155e+06</td>\n",
              "      <td>1.754155e+06</td>\n",
              "      <td>1.754155e+06</td>\n",
              "      <td>1.754155e+06</td>\n",
              "      <td>1.754155e+06</td>\n",
              "      <td>1.754155e+06</td>\n",
              "    </tr>\n",
              "    <tr>\n",
              "      <th>mean</th>\n",
              "      <td>8.770770e+05</td>\n",
              "      <td>8.770770e+05</td>\n",
              "      <td>8.770770e+05</td>\n",
              "      <td>2.504011e+03</td>\n",
              "      <td>4.996733e+03</td>\n",
              "      <td>5.396820e+02</td>\n",
              "      <td>7.903234e+06</td>\n",
              "      <td>9.097260e+01</td>\n",
              "    </tr>\n",
              "    <tr>\n",
              "      <th>std</th>\n",
              "      <td>5.063811e+05</td>\n",
              "      <td>5.063811e+05</td>\n",
              "      <td>5.063811e+05</td>\n",
              "      <td>1.445987e+03</td>\n",
              "      <td>2.886101e+03</td>\n",
              "      <td>1.179711e+03</td>\n",
              "      <td>4.565172e+06</td>\n",
              "      <td>5.283709e+01</td>\n",
              "    </tr>\n",
              "    <tr>\n",
              "      <th>min</th>\n",
              "      <td>0.000000e+00</td>\n",
              "      <td>0.000000e+00</td>\n",
              "      <td>0.000000e+00</td>\n",
              "      <td>0.000000e+00</td>\n",
              "      <td>0.000000e+00</td>\n",
              "      <td>0.000000e+00</td>\n",
              "      <td>3.100000e+01</td>\n",
              "      <td>0.000000e+00</td>\n",
              "    </tr>\n",
              "    <tr>\n",
              "      <th>25%</th>\n",
              "      <td>4.385385e+05</td>\n",
              "      <td>4.385385e+05</td>\n",
              "      <td>4.385385e+05</td>\n",
              "      <td>1.252000e+03</td>\n",
              "      <td>2.502000e+03</td>\n",
              "      <td>1.799500e+02</td>\n",
              "      <td>3.940846e+06</td>\n",
              "      <td>4.500000e+01</td>\n",
              "    </tr>\n",
              "    <tr>\n",
              "      <th>50%</th>\n",
              "      <td>8.770770e+05</td>\n",
              "      <td>8.770770e+05</td>\n",
              "      <td>8.770770e+05</td>\n",
              "      <td>2.506000e+03</td>\n",
              "      <td>4.994000e+03</td>\n",
              "      <td>4.217500e+02</td>\n",
              "      <td>7.902670e+06</td>\n",
              "      <td>9.100000e+01</td>\n",
              "    </tr>\n",
              "    <tr>\n",
              "      <th>75%</th>\n",
              "      <td>1.315616e+06</td>\n",
              "      <td>1.315616e+06</td>\n",
              "      <td>1.315616e+06</td>\n",
              "      <td>3.765000e+03</td>\n",
              "      <td>7.495000e+03</td>\n",
              "      <td>7.505950e+02</td>\n",
              "      <td>1.186566e+07</td>\n",
              "      <td>1.370000e+02</td>\n",
              "    </tr>\n",
              "    <tr>\n",
              "      <th>max</th>\n",
              "      <td>1.754154e+06</td>\n",
              "      <td>1.754154e+06</td>\n",
              "      <td>1.754154e+06</td>\n",
              "      <td>4.999000e+03</td>\n",
              "      <td>9.999000e+03</td>\n",
              "      <td>6.478375e+05</td>\n",
              "      <td>1.581120e+07</td>\n",
              "      <td>1.820000e+02</td>\n",
              "    </tr>\n",
              "  </tbody>\n",
              "</table>\n",
              "</div>\n",
              "    <div class=\"colab-df-buttons\">\n",
              "\n",
              "  <div class=\"colab-df-container\">\n",
              "    <button class=\"colab-df-convert\" onclick=\"convertToInteractive('df-ccfc7e94-2b1e-405e-8d42-bfef4b260d93')\"\n",
              "            title=\"Convert this dataframe to an interactive table.\"\n",
              "            style=\"display:none;\">\n",
              "\n",
              "  <svg xmlns=\"http://www.w3.org/2000/svg\" height=\"24px\" viewBox=\"0 -960 960 960\">\n",
              "    <path d=\"M120-120v-720h720v720H120Zm60-500h600v-160H180v160Zm220 220h160v-160H400v160Zm0 220h160v-160H400v160ZM180-400h160v-160H180v160Zm440 0h160v-160H620v160ZM180-180h160v-160H180v160Zm440 0h160v-160H620v160Z\"/>\n",
              "  </svg>\n",
              "    </button>\n",
              "\n",
              "  <style>\n",
              "    .colab-df-container {\n",
              "      display:flex;\n",
              "      gap: 12px;\n",
              "    }\n",
              "\n",
              "    .colab-df-convert {\n",
              "      background-color: #E8F0FE;\n",
              "      border: none;\n",
              "      border-radius: 50%;\n",
              "      cursor: pointer;\n",
              "      display: none;\n",
              "      fill: #1967D2;\n",
              "      height: 32px;\n",
              "      padding: 0 0 0 0;\n",
              "      width: 32px;\n",
              "    }\n",
              "\n",
              "    .colab-df-convert:hover {\n",
              "      background-color: #E2EBFA;\n",
              "      box-shadow: 0px 1px 2px rgba(60, 64, 67, 0.3), 0px 1px 3px 1px rgba(60, 64, 67, 0.15);\n",
              "      fill: #174EA6;\n",
              "    }\n",
              "\n",
              "    .colab-df-buttons div {\n",
              "      margin-bottom: 4px;\n",
              "    }\n",
              "\n",
              "    [theme=dark] .colab-df-convert {\n",
              "      background-color: #3B4455;\n",
              "      fill: #D2E3FC;\n",
              "    }\n",
              "\n",
              "    [theme=dark] .colab-df-convert:hover {\n",
              "      background-color: #434B5C;\n",
              "      box-shadow: 0px 1px 3px 1px rgba(0, 0, 0, 0.15);\n",
              "      filter: drop-shadow(0px 1px 2px rgba(0, 0, 0, 0.3));\n",
              "      fill: #FFFFFF;\n",
              "    }\n",
              "  </style>\n",
              "\n",
              "    <script>\n",
              "      const buttonEl =\n",
              "        document.querySelector('#df-ccfc7e94-2b1e-405e-8d42-bfef4b260d93 button.colab-df-convert');\n",
              "      buttonEl.style.display =\n",
              "        google.colab.kernel.accessAllowed ? 'block' : 'none';\n",
              "\n",
              "      async function convertToInteractive(key) {\n",
              "        const element = document.querySelector('#df-ccfc7e94-2b1e-405e-8d42-bfef4b260d93');\n",
              "        const dataTable =\n",
              "          await google.colab.kernel.invokeFunction('convertToInteractive',\n",
              "                                                    [key], {});\n",
              "        if (!dataTable) return;\n",
              "\n",
              "        const docLinkHtml = 'Like what you see? Visit the ' +\n",
              "          '<a target=\"_blank\" href=https://colab.research.google.com/notebooks/data_table.ipynb>data table notebook</a>'\n",
              "          + ' to learn more about interactive tables.';\n",
              "        element.innerHTML = '';\n",
              "        dataTable['output_type'] = 'display_data';\n",
              "        await google.colab.output.renderOutput(dataTable, element);\n",
              "        const docLink = document.createElement('div');\n",
              "        docLink.innerHTML = docLinkHtml;\n",
              "        element.appendChild(docLink);\n",
              "      }\n",
              "    </script>\n",
              "  </div>\n",
              "\n",
              "\n",
              "<div id=\"df-be9e338a-eb3e-4912-a331-b14f84600812\">\n",
              "  <button class=\"colab-df-quickchart\" onclick=\"quickchart('df-be9e338a-eb3e-4912-a331-b14f84600812')\"\n",
              "            title=\"Suggest charts\"\n",
              "            style=\"display:none;\">\n",
              "\n",
              "<svg xmlns=\"http://www.w3.org/2000/svg\" height=\"24px\"viewBox=\"0 0 24 24\"\n",
              "     width=\"24px\">\n",
              "    <g>\n",
              "        <path d=\"M19 3H5c-1.1 0-2 .9-2 2v14c0 1.1.9 2 2 2h14c1.1 0 2-.9 2-2V5c0-1.1-.9-2-2-2zM9 17H7v-7h2v7zm4 0h-2V7h2v10zm4 0h-2v-4h2v4z\"/>\n",
              "    </g>\n",
              "</svg>\n",
              "  </button>\n",
              "\n",
              "<style>\n",
              "  .colab-df-quickchart {\n",
              "      --bg-color: #E8F0FE;\n",
              "      --fill-color: #1967D2;\n",
              "      --hover-bg-color: #E2EBFA;\n",
              "      --hover-fill-color: #174EA6;\n",
              "      --disabled-fill-color: #AAA;\n",
              "      --disabled-bg-color: #DDD;\n",
              "  }\n",
              "\n",
              "  [theme=dark] .colab-df-quickchart {\n",
              "      --bg-color: #3B4455;\n",
              "      --fill-color: #D2E3FC;\n",
              "      --hover-bg-color: #434B5C;\n",
              "      --hover-fill-color: #FFFFFF;\n",
              "      --disabled-bg-color: #3B4455;\n",
              "      --disabled-fill-color: #666;\n",
              "  }\n",
              "\n",
              "  .colab-df-quickchart {\n",
              "    background-color: var(--bg-color);\n",
              "    border: none;\n",
              "    border-radius: 50%;\n",
              "    cursor: pointer;\n",
              "    display: none;\n",
              "    fill: var(--fill-color);\n",
              "    height: 32px;\n",
              "    padding: 0;\n",
              "    width: 32px;\n",
              "  }\n",
              "\n",
              "  .colab-df-quickchart:hover {\n",
              "    background-color: var(--hover-bg-color);\n",
              "    box-shadow: 0 1px 2px rgba(60, 64, 67, 0.3), 0 1px 3px 1px rgba(60, 64, 67, 0.15);\n",
              "    fill: var(--button-hover-fill-color);\n",
              "  }\n",
              "\n",
              "  .colab-df-quickchart-complete:disabled,\n",
              "  .colab-df-quickchart-complete:disabled:hover {\n",
              "    background-color: var(--disabled-bg-color);\n",
              "    fill: var(--disabled-fill-color);\n",
              "    box-shadow: none;\n",
              "  }\n",
              "\n",
              "  .colab-df-spinner {\n",
              "    border: 2px solid var(--fill-color);\n",
              "    border-color: transparent;\n",
              "    border-bottom-color: var(--fill-color);\n",
              "    animation:\n",
              "      spin 1s steps(1) infinite;\n",
              "  }\n",
              "\n",
              "  @keyframes spin {\n",
              "    0% {\n",
              "      border-color: transparent;\n",
              "      border-bottom-color: var(--fill-color);\n",
              "      border-left-color: var(--fill-color);\n",
              "    }\n",
              "    20% {\n",
              "      border-color: transparent;\n",
              "      border-left-color: var(--fill-color);\n",
              "      border-top-color: var(--fill-color);\n",
              "    }\n",
              "    30% {\n",
              "      border-color: transparent;\n",
              "      border-left-color: var(--fill-color);\n",
              "      border-top-color: var(--fill-color);\n",
              "      border-right-color: var(--fill-color);\n",
              "    }\n",
              "    40% {\n",
              "      border-color: transparent;\n",
              "      border-right-color: var(--fill-color);\n",
              "      border-top-color: var(--fill-color);\n",
              "    }\n",
              "    60% {\n",
              "      border-color: transparent;\n",
              "      border-right-color: var(--fill-color);\n",
              "    }\n",
              "    80% {\n",
              "      border-color: transparent;\n",
              "      border-right-color: var(--fill-color);\n",
              "      border-bottom-color: var(--fill-color);\n",
              "    }\n",
              "    90% {\n",
              "      border-color: transparent;\n",
              "      border-bottom-color: var(--fill-color);\n",
              "    }\n",
              "  }\n",
              "</style>\n",
              "\n",
              "  <script>\n",
              "    async function quickchart(key) {\n",
              "      const quickchartButtonEl =\n",
              "        document.querySelector('#' + key + ' button');\n",
              "      quickchartButtonEl.disabled = true;  // To prevent multiple clicks.\n",
              "      quickchartButtonEl.classList.add('colab-df-spinner');\n",
              "      try {\n",
              "        const charts = await google.colab.kernel.invokeFunction(\n",
              "            'suggestCharts', [key], {});\n",
              "      } catch (error) {\n",
              "        console.error('Error during call to suggestCharts:', error);\n",
              "      }\n",
              "      quickchartButtonEl.classList.remove('colab-df-spinner');\n",
              "      quickchartButtonEl.classList.add('colab-df-quickchart-complete');\n",
              "    }\n",
              "    (() => {\n",
              "      let quickchartButtonEl =\n",
              "        document.querySelector('#df-be9e338a-eb3e-4912-a331-b14f84600812 button');\n",
              "      quickchartButtonEl.style.display =\n",
              "        google.colab.kernel.accessAllowed ? 'block' : 'none';\n",
              "    })();\n",
              "  </script>\n",
              "</div>\n",
              "\n",
              "    </div>\n",
              "  </div>\n"
            ],
            "application/vnd.google.colaboratory.intrinsic+json": {
              "type": "dataframe",
              "summary": "{\n  \"name\": \"df\",\n  \"rows\": 8,\n  \"fields\": [\n    {\n      \"column\": \"Unnamed: 0.1\",\n      \"properties\": {\n        \"dtype\": \"number\",\n        \"std\": 632205.7300694485,\n        \"min\": 0.0,\n        \"max\": 1754155.0,\n        \"num_unique_values\": 7,\n        \"samples\": [\n          1754155.0,\n          877077.0,\n          1315615.5\n        ],\n        \"semantic_type\": \"\",\n        \"description\": \"\"\n      }\n    },\n    {\n      \"column\": \"Unnamed: 0\",\n      \"properties\": {\n        \"dtype\": \"number\",\n        \"std\": 632205.7300694485,\n        \"min\": 0.0,\n        \"max\": 1754155.0,\n        \"num_unique_values\": 7,\n        \"samples\": [\n          1754155.0,\n          877077.0,\n          1315615.5\n        ],\n        \"semantic_type\": \"\",\n        \"description\": \"\"\n      }\n    },\n    {\n      \"column\": \"TRANSACTION_ID\",\n      \"properties\": {\n        \"dtype\": \"number\",\n        \"std\": 632205.7300694485,\n        \"min\": 0.0,\n        \"max\": 1754155.0,\n        \"num_unique_values\": 7,\n        \"samples\": [\n          1754155.0,\n          877077.0,\n          1315615.5\n        ],\n        \"semantic_type\": \"\",\n        \"description\": \"\"\n      }\n    },\n    {\n      \"column\": \"CUSTOMER_ID\",\n      \"properties\": {\n        \"dtype\": \"number\",\n        \"std\": 619357.4022249561,\n        \"min\": 0.0,\n        \"max\": 1754155.0,\n        \"num_unique_values\": 8,\n        \"samples\": [\n          2504.0114015010076,\n          2506.0,\n          1754155.0\n        ],\n        \"semantic_type\": \"\",\n        \"description\": \"\"\n      }\n    },\n    {\n      \"column\": \"TERMINAL_ID\",\n      \"properties\": {\n        \"dtype\": \"number\",\n        \"std\": 618534.7728082302,\n        \"min\": 0.0,\n        \"max\": 1754155.0,\n        \"num_unique_values\": 8,\n        \"samples\": [\n          4996.733152999593,\n          4994.0,\n          1754155.0\n        ],\n        \"semantic_type\": \"\",\n        \"description\": \"\"\n      }\n    },\n    {\n      \"column\": \"TX_AMOUNT\",\n      \"properties\": {\n        \"dtype\": \"number\",\n        \"std\": 629479.8225234014,\n        \"min\": 0.0,\n        \"max\": 1754155.0,\n        \"num_unique_values\": 8,\n        \"samples\": [\n          539.681997280742,\n          421.75,\n          1754155.0\n        ],\n        \"semantic_type\": \"\",\n        \"description\": \"\"\n      }\n    },\n    {\n      \"column\": \"TX_TIME_SECONDS\",\n      \"properties\": {\n        \"dtype\": \"number\",\n        \"std\": 5265941.584438856,\n        \"min\": 31.0,\n        \"max\": 15811197.0,\n        \"num_unique_values\": 8,\n        \"samples\": [\n          7903233.708571933,\n          7902670.0,\n          1754155.0\n        ],\n        \"semantic_type\": \"\",\n        \"description\": \"\"\n      }\n    },\n    {\n      \"column\": \"TX_TIME_DAYS\",\n      \"properties\": {\n        \"dtype\": \"number\",\n        \"std\": 620157.2059581093,\n        \"min\": 0.0,\n        \"max\": 1754155.0,\n        \"num_unique_values\": 8,\n        \"samples\": [\n          90.97260276315377,\n          91.0,\n          1754155.0\n        ],\n        \"semantic_type\": \"\",\n        \"description\": \"\"\n      }\n    }\n  ]\n}"
            }
          },
          "metadata": {},
          "execution_count": 7
        }
      ]
    },
    {
      "cell_type": "code",
      "source": [
        "## Checking for nan values\n",
        "NaN_in_df = df.isnull().sum().any()\n",
        "print(NaN_in_df)"
      ],
      "metadata": {
        "colab": {
          "base_uri": "https://localhost:8080/"
        },
        "id": "PU3q0prKBxjj",
        "outputId": "c793ffac-33b3-439e-e846-649f4a293c93"
      },
      "execution_count": 8,
      "outputs": [
        {
          "output_type": "stream",
          "name": "stdout",
          "text": [
            "False\n"
          ]
        }
      ]
    },
    {
      "cell_type": "code",
      "source": [
        "## Making some boxplots for all the columns in the dataframe\n",
        "sns.set_style(\"whitegrid\", {'axes.grid' : False})\n",
        "###  First making boxplots of numerical values:\n",
        "sns.boxplot(df['Unnamed: 0.1'], width=0.15, linecolor=\"black\", color=\"white\", medianprops={\"color\": \"#f5b642\"})\n",
        "plt.show()\n",
        "sns.boxplot(df['Unnamed: 0'], width=0.15, linecolor=\"black\", color=\"white\", medianprops={\"color\": \"#f5b642\"})\n",
        "plt.show()\n",
        "sns.boxplot(df['TX_AMOUNT'], width=0.15, linecolor=\"black\", color=\"white\", medianprops={\"color\": \"#f5b642\"})\n",
        "plt.show()"
      ],
      "metadata": {
        "colab": {
          "base_uri": "https://localhost:8080/",
          "height": 1000
        },
        "id": "x-u90fHXB5-1",
        "outputId": "306848a4-d151-461f-fc30-1f060cf96775"
      },
      "execution_count": 9,
      "outputs": [
        {
          "output_type": "display_data",
          "data": {
            "text/plain": [
              "<Figure size 640x480 with 1 Axes>"
            ],
            "image/png": "[encoded data removed]"
          },
          "metadata": {}
        },
        {
          "output_type": "display_data",
          "data": {
            "text/plain": [
              "<Figure size 640x480 with 1 Axes>"
            ],
            "image/png": "[encoded data removed]"
          },
          "metadata": {}
        },
        {
          "output_type": "display_data",
          "data": {
            "text/plain": [
              "<Figure size 640x480 with 1 Axes>"
            ],
            "image/png": "[encoded data removed]"
          },
          "metadata": {}
        }
      ]
    },
    {
      "cell_type": "code",
      "source": [
        "sns.boxplot(df['TX_TIME_SECONDS'], width=0.15, linecolor=\"black\", color=\"white\", medianprops={\"color\": \"#f5b642\"})\n",
        "plt.show()"
      ],
      "metadata": {
        "colab": {
          "base_uri": "https://localhost:8080/",
          "height": 421
        },
        "id": "gHo3X8MMELAm",
        "outputId": "69a0fc64-cab3-410b-c52b-ceb3e8840a7a"
      },
      "execution_count": 10,
      "outputs": [
        {
          "output_type": "display_data",
          "data": {
            "text/plain": [
              "<Figure size 640x480 with 1 Axes>"
            ],
            "image/png": "[encoded data removed]"
          },
          "metadata": {}
        }
      ]
    },
    {
      "cell_type": "code",
      "source": [
        "sns.boxplot(df['TX_TIME_DAYS'], width=0.15, linecolor=\"black\", color=\"white\", medianprops={\"color\": \"#f5b642\"})\n",
        "plt.show()"
      ],
      "metadata": {
        "colab": {
          "base_uri": "https://localhost:8080/",
          "height": 406
        },
        "id": "s82BgmyGETWN",
        "outputId": "b93dd3ef-c0b8-45f4-ac88-8d4755ca64a2"
      },
      "execution_count": 11,
      "outputs": [
        {
          "output_type": "display_data",
          "data": {
            "text/plain": [
              "<Figure size 640x480 with 1 Axes>"
            ],
            "image/png": "[encoded data removed]"
          },
          "metadata": {}
        }
      ]
    },
    {
      "cell_type": "code",
      "source": [
        "#Checking if unnamed 0, unnamed 0.1, and TRANSACTION_ID are all just an index for the data\n",
        "print(df['Unnamed: 0'].equals(df['Unnamed: 0.1']))\n",
        "print(df['Unnamed: 0'].equals(df['TRANSACTION_ID']))"
      ],
      "metadata": {
        "colab": {
          "base_uri": "https://localhost:8080/"
        },
        "id": "I8C9HsAXGs99",
        "outputId": "fad2eca5-940b-4904-80f4-ae3b032b08cc"
      },
      "execution_count": 12,
      "outputs": [
        {
          "output_type": "stream",
          "name": "stdout",
          "text": [
            "True\n",
            "True\n"
          ]
        }
      ]
    },
    {
      "cell_type": "code",
      "source": [
        "#Removing all three columns that are just indexes\n",
        "clean_df = df.drop(['Unnamed: 0', 'Unnamed: 0.1', 'TRANSACTION_ID'], axis=1)\n",
        "print(clean_df.head())"
      ],
      "metadata": {
        "colab": {
          "base_uri": "https://localhost:8080/"
        },
        "id": "7i1K64reHM_I",
        "outputId": "19773294-e275-44f1-e5d8-b9095365825c"
      },
      "execution_count": 13,
      "outputs": [
        {
          "output_type": "stream",
          "name": "stdout",
          "text": [
            "           TX_DATETIME  CUSTOMER_ID  TERMINAL_ID  TX_AMOUNT  TX_TIME_SECONDS  \\\n",
            "0  2023-01-01 00:00:31          596         3156     533.07               31   \n",
            "1  2023-01-01 00:02:10         4961         3412     808.56              130   \n",
            "2  2023-01-01 00:07:56            2         1365    1442.94              476   \n",
            "3  2023-01-01 00:09:29         4128         8737     620.65              569   \n",
            "4  2023-01-01 00:10:34          927         9906     490.66              634   \n",
            "\n",
            "   TX_TIME_DAYS                TX_FRAUD_SCENARIO  \n",
            "0             0           Legitimate Transaction  \n",
            "1             0           Legitimate Transaction  \n",
            "2             0  Fraudulent Transaction Internet  \n",
            "3             0           Legitimate Transaction  \n",
            "4             0           Legitimate Transaction  \n"
          ]
        }
      ]
    },
    {
      "cell_type": "code",
      "source": [
        "# Checking the values present in the TX_FRAUD_SCENARIO column\n",
        "scenarios = clean_df.TX_FRAUD_SCENARIO.unique()\n",
        "print(scenarios)"
      ],
      "metadata": {
        "colab": {
          "base_uri": "https://localhost:8080/"
        },
        "id": "_gRyF23pGAJw",
        "outputId": "1201a811-654b-4fcc-96cc-097dddd1e68e"
      },
      "execution_count": 14,
      "outputs": [
        {
          "output_type": "stream",
          "name": "stdout",
          "text": [
            "['Legitimate Transaction' 'Fraudulent Transaction Internet'\n",
            " 'Fraudulent Transaction retailer' 'Fraudulent Transaction DAB']\n"
          ]
        }
      ]
    },
    {
      "cell_type": "code",
      "source": [
        "import plotly.express as px\n",
        "\n",
        "def plot_fraud_scenario_counts(data_frame):\n",
        "    \"\"\"\n",
        "    Plots the counts of transactions for different fraud scenarios.\n",
        "\n",
        "    :param data_frame: The DataFrame containing the data.\n",
        "    \"\"\"\n",
        "    legit_count = data_frame['TX_FRAUD_SCENARIO'].value_counts()['Legitimate Transaction']\n",
        "    internet_fraud = data_frame['TX_FRAUD_SCENARIO'].value_counts()['Fraudulent Transaction Internet']\n",
        "    retailer_fraud = data_frame['TX_FRAUD_SCENARIO'].value_counts()['Fraudulent Transaction retailer']\n",
        "    DAB_fraud = data_frame['TX_FRAUD_SCENARIO'].value_counts()['Fraudulent Transaction DAB']\n",
        "    values = [DAB_fraud, internet_fraud, retailer_fraud, legit_count]\n",
        "    scenarios = 'Fraudulent Transaction DAB', 'Fraudulent Transaction Internet', 'Fraudulent Transaction Retailer', 'Legitimate Transaction'\n",
        "    fig = px.bar(x=scenarios, y=values, labels={'x': 'Fraud scenarios', 'y': 'Number of Transactions'}, color=scenarios)\n",
        "    fig.show()\n",
        "\n",
        "# Call the function to plot fraud scenario counts\n",
        "plot_fraud_scenario_counts(clean_df)"
      ],
      "metadata": {
        "colab": {
          "base_uri": "https://localhost:8080/",
          "height": 542
        },
        "id": "hHiCMF5cBIF1",
        "outputId": "983c0ab9-613a-4f44-e148-4ad65bf3c456"
      },
      "execution_count": 15,
      "outputs": [
        {
          "output_type": "display_data",
          "data": {
            "text/html": [
              "<html>\n",
              "<head><meta charset=\"utf-8\" /></head>\n",
              "<body>\n",
              "    <div>            <script src=\"https://cdnjs.cloudflare.com/ajax/libs/mathjax/2.7.5/MathJax.js?config=TeX-AMS-MML_SVG\"></script><script type=\"text/javascript\">if (window.MathJax && window.MathJax.Hub && window.MathJax.Hub.Config) {window.MathJax.Hub.Config({SVG: {font: \"STIX-Web\"}});}</script>                <script type=\"text/javascript\">window.PlotlyConfig = {MathJaxConfig: 'local'};</script>\n",
              "        <script charset=\"utf-8\" src=\"https://cdn.plot.ly/plotly-2.24.1.min.js\"></script>                <div id=\"4c78f700-1c71-45d5-8c48-7371fc974e07\" class=\"plotly-graph-div\" style=\"height:525px; width:100%;\"></div>            <script type=\"text/javascript\">                                    window.PLOTLYENV=window.PLOTLYENV || {};                                    if (document.getElementById(\"4c78f700-1c71-45d5-8c48-7371fc974e07\")) {                    Plotly.newPlot(                        \"4c78f700-1c71-45d5-8c48-7371fc974e07\",                        [{\"alignmentgroup\":\"True\",\"hovertemplate\":\"color=Fraudulent Transaction DAB\\u003cbr\\u003eFraud scenarios=%{x}\\u003cbr\\u003eNumber of Transactions=%{y}\\u003cextra\\u003e\\u003c\\u002fextra\\u003e\",\"legendgroup\":\"Fraudulent Transaction DAB\",\"marker\":{\"color\":\"#636efa\",\"pattern\":{\"shape\":\"\"}},\"name\":\"Fraudulent Transaction DAB\",\"offsetgroup\":\"Fraudulent Transaction DAB\",\"orientation\":\"v\",\"showlegend\":true,\"textposition\":\"auto\",\"x\":[\"Fraudulent Transaction DAB\"],\"xaxis\":\"x\",\"y\":[9077],\"yaxis\":\"y\",\"type\":\"bar\"},{\"alignmentgroup\":\"True\",\"hovertemplate\":\"color=Fraudulent Transaction Internet\\u003cbr\\u003eFraud scenarios=%{x}\\u003cbr\\u003eNumber of Transactions=%{y}\\u003cextra\\u003e\\u003c\\u002fextra\\u003e\",\"legendgroup\":\"Fraudulent Transaction Internet\",\"marker\":{\"color\":\"#EF553B\",\"pattern\":{\"shape\":\"\"}},\"name\":\"Fraudulent Transaction Internet\",\"offsetgroup\":\"Fraudulent Transaction Internet\",\"orientation\":\"v\",\"showlegend\":true,\"textposition\":\"auto\",\"x\":[\"Fraudulent Transaction Internet\"],\"xaxis\":\"x\",\"y\":[222261],\"yaxis\":\"y\",\"type\":\"bar\"},{\"alignmentgroup\":\"True\",\"hovertemplate\":\"color=Fraudulent Transaction Retailer\\u003cbr\\u003eFraud scenarios=%{x}\\u003cbr\\u003eNumber of Transactions=%{y}\\u003cextra\\u003e\\u003c\\u002fextra\\u003e\",\"legendgroup\":\"Fraudulent Transaction Retailer\",\"marker\":{\"color\":\"#00cc96\",\"pattern\":{\"shape\":\"\"}},\"name\":\"Fraudulent Transaction Retailer\",\"offsetgroup\":\"Fraudulent Transaction Retailer\",\"orientation\":\"v\",\"showlegend\":true,\"textposition\":\"auto\",\"x\":[\"Fraudulent Transaction Retailer\"],\"xaxis\":\"x\",\"y\":[4631],\"yaxis\":\"y\",\"type\":\"bar\"},{\"alignmentgroup\":\"True\",\"hovertemplate\":\"color=Legitimate Transaction\\u003cbr\\u003eFraud scenarios=%{x}\\u003cbr\\u003eNumber of Transactions=%{y}\\u003cextra\\u003e\\u003c\\u002fextra\\u003e\",\"legendgroup\":\"Legitimate Transaction\",\"marker\":{\"color\":\"#ab63fa\",\"pattern\":{\"shape\":\"\"}},\"name\":\"Legitimate Transaction\",\"offsetgroup\":\"Legitimate Transaction\",\"orientation\":\"v\",\"showlegend\":true,\"textposition\":\"auto\",\"x\":[\"Legitimate Transaction\"],\"xaxis\":\"x\",\"y\":[1518186],\"yaxis\":\"y\",\"type\":\"bar\"}],                        {\"template\":{\"data\":{\"histogram2dcontour\":[{\"type\":\"histogram2dcontour\",\"colorbar\":{\"outlinewidth\":0,\"ticks\":\"\"},\"colorscale\":[[0.0,\"#0d0887\"],[0.1111111111111111,\"#46039f\"],[0.2222222222222222,\"#7201a8\"],[0.3333333333333333,\"#9c179e\"],[0.4444444444444444,\"#bd3786\"],[0.5555555555555556,\"#d8576b\"],[0.6666666666666666,\"#ed7953\"],[0.7777777777777778,\"#fb9f3a\"],[0.8888888888888888,\"#fdca26\"],[1.0,\"#f0f921\"]]}],\"choropleth\":[{\"type\":\"choropleth\",\"colorbar\":{\"outlinewidth\":0,\"ticks\":\"\"}}],\"histogram2d\":[{\"type\":\"histogram2d\",\"colorbar\":{\"outlinewidth\":0,\"ticks\":\"\"},\"colorscale\":[[0.0,\"#0d0887\"],[0.1111111111111111,\"#46039f\"],[0.2222222222222222,\"#7201a8\"],[0.3333333333333333,\"#9c179e\"],[0.4444444444444444,\"#bd3786\"],[0.5555555555555556,\"#d8576b\"],[0.6666666666666666,\"#ed7953\"],[0.7777777777777778,\"#fb9f3a\"],[0.8888888888888888,\"#fdca26\"],[1.0,\"#f0f921\"]]}],\"heatmap\":[{\"type\":\"heatmap\",\"colorbar\":{\"outlinewidth\":0,\"ticks\":\"\"},\"colorscale\":[[0.0,\"#0d0887\"],[0.1111111111111111,\"#46039f\"],[0.2222222222222222,\"#7201a8\"],[0.3333333333333333,\"#9c179e\"],[0.4444444444444444,\"#bd3786\"],[0.5555555555555556,\"#d8576b\"],[0.6666666666666666,\"#ed7953\"],[0.7777777777777778,\"#fb9f3a\"],[0.8888888888888888,\"#fdca26\"],[1.0,\"#f0f921\"]]}],\"heatmapgl\":[{\"type\":\"heatmapgl\",\"colorbar\":{\"outlinewidth\":0,\"ticks\":\"\"},\"colorscale\":[[0.0,\"#0d0887\"],[0.1111111111111111,\"#46039f\"],[0.2222222222222222,\"#7201a8\"],[0.3333333333333333,\"#9c179e\"],[0.4444444444444444,\"#bd3786\"],[0.5555555555555556,\"#d8576b\"],[0.6666666666666666,\"#ed7953\"],[0.7777777777777778,\"#fb9f3a\"],[0.8888888888888888,\"#fdca26\"],[1.0,\"#f0f921\"]]}],\"contourcarpet\":[{\"type\":\"contourcarpet\",\"colorbar\":{\"outlinewidth\":0,\"ticks\":\"\"}}],\"contour\":[{\"type\":\"contour\",\"colorbar\":{\"outlinewidth\":0,\"ticks\":\"\"},\"colorscale\":[[0.0,\"#0d0887\"],[0.1111111111111111,\"#46039f\"],[0.2222222222222222,\"#7201a8\"],[0.3333333333333333,\"#9c179e\"],[0.4444444444444444,\"#bd3786\"],[0.5555555555555556,\"#d8576b\"],[0.6666666666666666,\"#ed7953\"],[0.7777777777777778,\"#fb9f3a\"],[0.8888888888888888,\"#fdca26\"],[1.0,\"#f0f921\"]]}],\"surface\":[{\"type\":\"surface\",\"colorbar\":{\"outlinewidth\":0,\"ticks\":\"\"},\"colorscale\":[[0.0,\"#0d0887\"],[0.1111111111111111,\"#46039f\"],[0.2222222222222222,\"#7201a8\"],[0.3333333333333333,\"#9c179e\"],[0.4444444444444444,\"#bd3786\"],[0.5555555555555556,\"#d8576b\"],[0.6666666666666666,\"#ed7953\"],[0.7777777777777778,\"#fb9f3a\"],[0.8888888888888888,\"#fdca26\"],[1.0,\"#f0f921\"]]}],\"mesh3d\":[{\"type\":\"mesh3d\",\"colorbar\":{\"outlinewidth\":0,\"ticks\":\"\"}}],\"scatter\":[{\"fillpattern\":{\"fillmode\":\"overlay\",\"size\":10,\"solidity\":0.2},\"type\":\"scatter\"}],\"parcoords\":[{\"type\":\"parcoords\",\"line\":{\"colorbar\":{\"outlinewidth\":0,\"ticks\":\"\"}}}],\"scatterpolargl\":[{\"type\":\"scatterpolargl\",\"marker\":{\"colorbar\":{\"outlinewidth\":0,\"ticks\":\"\"}}}],\"bar\":[{\"error_x\":{\"color\":\"#2a3f5f\"},\"error_y\":{\"color\":\"#2a3f5f\"},\"marker\":{\"line\":{\"color\":\"#E5ECF6\",\"width\":0.5},\"pattern\":{\"fillmode\":\"overlay\",\"size\":10,\"solidity\":0.2}},\"type\":\"bar\"}],\"scattergeo\":[{\"type\":\"scattergeo\",\"marker\":{\"colorbar\":{\"outlinewidth\":0,\"ticks\":\"\"}}}],\"scatterpolar\":[{\"type\":\"scatterpolar\",\"marker\":{\"colorbar\":{\"outlinewidth\":0,\"ticks\":\"\"}}}],\"histogram\":[{\"marker\":{\"pattern\":{\"fillmode\":\"overlay\",\"size\":10,\"solidity\":0.2}},\"type\":\"histogram\"}],\"scattergl\":[{\"type\":\"scattergl\",\"marker\":{\"colorbar\":{\"outlinewidth\":0,\"ticks\":\"\"}}}],\"scatter3d\":[{\"type\":\"scatter3d\",\"line\":{\"colorbar\":{\"outlinewidth\":0,\"ticks\":\"\"}},\"marker\":{\"colorbar\":{\"outlinewidth\":0,\"ticks\":\"\"}}}],\"scattermapbox\":[{\"type\":\"scattermapbox\",\"marker\":{\"colorbar\":{\"outlinewidth\":0,\"ticks\":\"\"}}}],\"scatterternary\":[{\"type\":\"scatterternary\",\"marker\":{\"colorbar\":{\"outlinewidth\":0,\"ticks\":\"\"}}}],\"scattercarpet\":[{\"type\":\"scattercarpet\",\"marker\":{\"colorbar\":{\"outlinewidth\":0,\"ticks\":\"\"}}}],\"carpet\":[{\"aaxis\":{\"endlinecolor\":\"#2a3f5f\",\"gridcolor\":\"white\",\"linecolor\":\"white\",\"minorgridcolor\":\"white\",\"startlinecolor\":\"#2a3f5f\"},\"baxis\":{\"endlinecolor\":\"#2a3f5f\",\"gridcolor\":\"white\",\"linecolor\":\"white\",\"minorgridcolor\":\"white\",\"startlinecolor\":\"#2a3f5f\"},\"type\":\"carpet\"}],\"table\":[{\"cells\":{\"fill\":{\"color\":\"#EBF0F8\"},\"line\":{\"color\":\"white\"}},\"header\":{\"fill\":{\"color\":\"#C8D4E3\"},\"line\":{\"color\":\"white\"}},\"type\":\"table\"}],\"barpolar\":[{\"marker\":{\"line\":{\"color\":\"#E5ECF6\",\"width\":0.5},\"pattern\":{\"fillmode\":\"overlay\",\"size\":10,\"solidity\":0.2}},\"type\":\"barpolar\"}],\"pie\":[{\"automargin\":true,\"type\":\"pie\"}]},\"layout\":{\"autotypenumbers\":\"strict\",\"colorway\":[\"#636efa\",\"#EF553B\",\"#00cc96\",\"#ab63fa\",\"#FFA15A\",\"#19d3f3\",\"#FF6692\",\"#B6E880\",\"#FF97FF\",\"#FECB52\"],\"font\":{\"color\":\"#2a3f5f\"},\"hovermode\":\"closest\",\"hoverlabel\":{\"align\":\"left\"},\"paper_bgcolor\":\"white\",\"plot_bgcolor\":\"#E5ECF6\",\"polar\":{\"bgcolor\":\"#E5ECF6\",\"angularaxis\":{\"gridcolor\":\"white\",\"linecolor\":\"white\",\"ticks\":\"\"},\"radialaxis\":{\"gridcolor\":\"white\",\"linecolor\":\"white\",\"ticks\":\"\"}},\"ternary\":{\"bgcolor\":\"#E5ECF6\",\"aaxis\":{\"gridcolor\":\"white\",\"linecolor\":\"white\",\"ticks\":\"\"},\"baxis\":{\"gridcolor\":\"white\",\"linecolor\":\"white\",\"ticks\":\"\"},\"caxis\":{\"gridcolor\":\"white\",\"linecolor\":\"white\",\"ticks\":\"\"}},\"coloraxis\":{\"colorbar\":{\"outlinewidth\":0,\"ticks\":\"\"}},\"colorscale\":{\"sequential\":[[0.0,\"#0d0887\"],[0.1111111111111111,\"#46039f\"],[0.2222222222222222,\"#7201a8\"],[0.3333333333333333,\"#9c179e\"],[0.4444444444444444,\"#bd3786\"],[0.5555555555555556,\"#d8576b\"],[0.6666666666666666,\"#ed7953\"],[0.7777777777777778,\"#fb9f3a\"],[0.8888888888888888,\"#fdca26\"],[1.0,\"#f0f921\"]],\"sequentialminus\":[[0.0,\"#0d0887\"],[0.1111111111111111,\"#46039f\"],[0.2222222222222222,\"#7201a8\"],[0.3333333333333333,\"#9c179e\"],[0.4444444444444444,\"#bd3786\"],[0.5555555555555556,\"#d8576b\"],[0.6666666666666666,\"#ed7953\"],[0.7777777777777778,\"#fb9f3a\"],[0.8888888888888888,\"#fdca26\"],[1.0,\"#f0f921\"]],\"diverging\":[[0,\"#8e0152\"],[0.1,\"#c51b7d\"],[0.2,\"#de77ae\"],[0.3,\"#f1b6da\"],[0.4,\"#fde0ef\"],[0.5,\"#f7f7f7\"],[0.6,\"#e6f5d0\"],[0.7,\"#b8e186\"],[0.8,\"#7fbc41\"],[0.9,\"#4d9221\"],[1,\"#276419\"]]},\"xaxis\":{\"gridcolor\":\"white\",\"linecolor\":\"white\",\"ticks\":\"\",\"title\":{\"standoff\":15},\"zerolinecolor\":\"white\",\"automargin\":true,\"zerolinewidth\":2},\"yaxis\":{\"gridcolor\":\"white\",\"linecolor\":\"white\",\"ticks\":\"\",\"title\":{\"standoff\":15},\"zerolinecolor\":\"white\",\"automargin\":true,\"zerolinewidth\":2},\"scene\":{\"xaxis\":{\"backgroundcolor\":\"#E5ECF6\",\"gridcolor\":\"white\",\"linecolor\":\"white\",\"showbackground\":true,\"ticks\":\"\",\"zerolinecolor\":\"white\",\"gridwidth\":2},\"yaxis\":{\"backgroundcolor\":\"#E5ECF6\",\"gridcolor\":\"white\",\"linecolor\":\"white\",\"showbackground\":true,\"ticks\":\"\",\"zerolinecolor\":\"white\",\"gridwidth\":2},\"zaxis\":{\"backgroundcolor\":\"#E5ECF6\",\"gridcolor\":\"white\",\"linecolor\":\"white\",\"showbackground\":true,\"ticks\":\"\",\"zerolinecolor\":\"white\",\"gridwidth\":2}},\"shapedefaults\":{\"line\":{\"color\":\"#2a3f5f\"}},\"annotationdefaults\":{\"arrowcolor\":\"#2a3f5f\",\"arrowhead\":0,\"arrowwidth\":1},\"geo\":{\"bgcolor\":\"white\",\"landcolor\":\"#E5ECF6\",\"subunitcolor\":\"white\",\"showland\":true,\"showlakes\":true,\"lakecolor\":\"white\"},\"title\":{\"x\":0.05},\"mapbox\":{\"style\":\"light\"}}},\"xaxis\":{\"anchor\":\"y\",\"domain\":[0.0,1.0],\"title\":{\"text\":\"Fraud scenarios\"}},\"yaxis\":{\"anchor\":\"x\",\"domain\":[0.0,1.0],\"title\":{\"text\":\"Number of Transactions\"}},\"legend\":{\"title\":{\"text\":\"color\"},\"tracegroupgap\":0},\"margin\":{\"t\":60},\"barmode\":\"relative\"},                        {\"responsive\": true}                    ).then(function(){\n",
              "                            \n",
              "var gd = document.getElementById('4c78f700-1c71-45d5-8c48-7371fc974e07');\n",
              "var x = new MutationObserver(function (mutations, observer) {{\n",
              "        var display = window.getComputedStyle(gd).display;\n",
              "        if (!display || display === 'none') {{\n",
              "            console.log([gd, 'removed!']);\n",
              "            Plotly.purge(gd);\n",
              "            observer.disconnect();\n",
              "        }}\n",
              "}});\n",
              "\n",
              "// Listen for the removal of the full notebook cells\n",
              "var notebookContainer = gd.closest('#notebook-container');\n",
              "if (notebookContainer) {{\n",
              "    x.observe(notebookContainer, {childList: true});\n",
              "}}\n",
              "\n",
              "// Listen for the clearing of the current output cell\n",
              "var outputEl = gd.closest('.output');\n",
              "if (outputEl) {{\n",
              "    x.observe(outputEl, {childList: true});\n",
              "}}\n",
              "\n",
              "                        })                };                            </script>        </div>\n",
              "</body>\n",
              "</html>"
            ]
          },
          "metadata": {}
        }
      ]
    },
    {
      "cell_type": "code",
      "source": [
        "def plot_data_imbalance(data_frame, target_column):\n",
        "    \"\"\"\n",
        "    Display a pie chart to illustrate class imbalance in the target column.\n",
        "\n",
        "    :param data_frame: The DataFrame containing the data.\n",
        "    :param target_column: The name of the target column for which the imbalance should be illustrated.\n",
        "    \"\"\"\n",
        "    all_frauds = (data_frame['TX_FRAUD_SCENARIO'].value_counts()['Fraudulent Transaction Internet']) + data_frame['TX_FRAUD_SCENARIO'].value_counts()['Fraudulent Transaction retailer'] + data_frame['TX_FRAUD_SCENARIO'].value_counts()['Fraudulent Transaction DAB']\n",
        "    legit = data_frame['TX_FRAUD_SCENARIO'].value_counts()['Legitimate Transaction']\n",
        "    categories = 'Legitimate Transaction', 'Fradulent Transaction(Internet + DAB + Retailer)'\n",
        "    values = [legit, all_frauds]\n",
        "    plt.figure(figsize=(8, 8))\n",
        "    plt.pie(values, labels=categories, autopct='%1.1f%%', startangle=105, shadow=True)\n",
        "    plt.show()\n",
        "\n",
        "\n",
        "# Call the function to display class imbalance in the 'TX_FRAUD_SCENARIO' column\n",
        "plot_data_imbalance(clean_df, 'TX_FRAUD_SCENARIO')\n"
      ],
      "metadata": {
        "id": "yC_uZC9nASk2",
        "colab": {
          "base_uri": "https://localhost:8080/",
          "height": 653
        },
        "outputId": "2221b24d-487d-4ae2-e2f0-6fabdb23a4e0"
      },
      "execution_count": 16,
      "outputs": [
        {
          "output_type": "display_data",
          "data": {
            "text/plain": [
              "<Figure size 800x800 with 1 Axes>"
            ],
            "image/png": "[encoded data removed]"
          },
          "metadata": {}
        }
      ]
    },
    {
      "cell_type": "code",
      "source": [
        "# Think about merging your frauds together\n",
        "clean_df_2 = clean_df.copy()\n",
        "clean_df_2['TX_FRAUD_SCENARIO'] = clean_df_2['TX_FRAUD_SCENARIO'].replace('Fraudulent Transaction Internet', 'Fraudulent Transaction')\n",
        "clean_df_2['TX_FRAUD_SCENARIO'] = clean_df_2['TX_FRAUD_SCENARIO'].replace('Fraudulent Transaction retailer', 'Fraudulent Transaction')\n",
        "clean_df_2['TX_FRAUD_SCENARIO'] = clean_df_2['TX_FRAUD_SCENARIO'].replace('Fraudulent Transaction DAB', 'Fraudulent Transaction')\n",
        "print(clean_df_2.head())\n",
        "print(clean_df_2.TX_FRAUD_SCENARIO.unique())"
      ],
      "metadata": {
        "colab": {
          "base_uri": "https://localhost:8080/"
        },
        "id": "-V8MeQqMkyy4",
        "outputId": "c8524e9f-c206-4b2d-b0b1-1665232870f5"
      },
      "execution_count": 17,
      "outputs": [
        {
          "output_type": "stream",
          "name": "stdout",
          "text": [
            "           TX_DATETIME  CUSTOMER_ID  TERMINAL_ID  TX_AMOUNT  TX_TIME_SECONDS  \\\n",
            "0  2023-01-01 00:00:31          596         3156     533.07               31   \n",
            "1  2023-01-01 00:02:10         4961         3412     808.56              130   \n",
            "2  2023-01-01 00:07:56            2         1365    1442.94              476   \n",
            "3  2023-01-01 00:09:29         4128         8737     620.65              569   \n",
            "4  2023-01-01 00:10:34          927         9906     490.66              634   \n",
            "\n",
            "   TX_TIME_DAYS       TX_FRAUD_SCENARIO  \n",
            "0             0  Legitimate Transaction  \n",
            "1             0  Legitimate Transaction  \n",
            "2             0  Fraudulent Transaction  \n",
            "3             0  Legitimate Transaction  \n",
            "4             0  Legitimate Transaction  \n",
            "['Legitimate Transaction' 'Fraudulent Transaction']\n"
          ]
        }
      ]
    },
    {
      "cell_type": "code",
      "source": [
        "#Checking what format the dates are in\n",
        "print(clean_df_2.TX_DATETIME.unique())"
      ],
      "metadata": {
        "colab": {
          "base_uri": "https://localhost:8080/"
        },
        "id": "udLwFXKQmOQ_",
        "outputId": "ecf37005-238b-4b3f-c89c-036d76e0a499"
      },
      "execution_count": 18,
      "outputs": [
        {
          "output_type": "stream",
          "name": "stdout",
          "text": [
            "['2023-01-01 00:00:31' '2023-01-01 00:02:10' '2023-01-01 00:07:56' ...\n",
            " '2023-07-02 23:58:21' '2023-07-02 23:59:52' '2023-07-02 23:59:57']\n"
          ]
        }
      ]
    },
    {
      "cell_type": "code",
      "source": [
        "\n",
        "import datetime as dt\n",
        "def visualize_monthly_transactions(df):\n",
        "    \"\"\"\n",
        "    Visualizes the distribution of transactions per month and their fraud scenario using a grouped bar plot.\n",
        "\n",
        "    :param df: DataFrame containing transaction data.\n",
        "    \"\"\"\n",
        "    monthly_fraud = df.copy()\n",
        "    monthly_fraud['TX_DATETIME'] = pd.to_datetime(df['TX_DATETIME'], format='%Y-%m-%d %H:%M:%S')\n",
        "    monthly_fraud['Month'] = monthly_fraud['TX_DATETIME'].dt.month\n",
        "    monthly_frauds = monthly_fraud.groupby(['Month', 'TX_FRAUD_SCENARIO']).size().reset_index(name='Count')\n",
        "    fig = px.bar(monthly_frauds, x='Month', y='Count', color='TX_FRAUD_SCENARIO',\n",
        "                 labels={'Month': 'Month', 'Count': 'Number of Transactions', 'TX_FRAUD_SCENARIO': 'Fraud Scenario'},\n",
        "                 title='Monthly Distribution of Transactions and Fraud Scenario', barmode='stack', category_orders={\"TX_FRAUD_SCENARIO\": [\"Fradulent Transaction\", \"Legitimate Transaction\"]})\n",
        "    fig.show()\n",
        "\n",
        "\n",
        "# Call the function to visualize monthly transactions and fraud scenarios\n",
        "visualize_monthly_transactions(clean_df_2)\n",
        "\n",
        "\n"
      ],
      "metadata": {
        "id": "njn-RPIYJSJU",
        "colab": {
          "base_uri": "https://localhost:8080/",
          "height": 542
        },
        "outputId": "9d92e62e-b747-4bf7-ae15-7453b44541ad"
      },
      "execution_count": 19,
      "outputs": [
        {
          "output_type": "display_data",
          "data": {
            "text/html": [
              "<html>\n",
              "<head><meta charset=\"utf-8\" /></head>\n",
              "<body>\n",
              "    <div>            <script src=\"https://cdnjs.cloudflare.com/ajax/libs/mathjax/2.7.5/MathJax.js?config=TeX-AMS-MML_SVG\"></script><script type=\"text/javascript\">if (window.MathJax && window.MathJax.Hub && window.MathJax.Hub.Config) {window.MathJax.Hub.Config({SVG: {font: \"STIX-Web\"}});}</script>                <script type=\"text/javascript\">window.PlotlyConfig = {MathJaxConfig: 'local'};</script>\n",
              "        <script charset=\"utf-8\" src=\"https://cdn.plot.ly/plotly-2.24.1.min.js\"></script>                <div id=\"8bb836f6-e1d8-471b-bf81-509392790122\" class=\"plotly-graph-div\" style=\"height:525px; width:100%;\"></div>            <script type=\"text/javascript\">                                    window.PLOTLYENV=window.PLOTLYENV || {};                                    if (document.getElementById(\"8bb836f6-e1d8-471b-bf81-509392790122\")) {                    Plotly.newPlot(                        \"8bb836f6-e1d8-471b-bf81-509392790122\",                        [{\"alignmentgroup\":\"True\",\"hovertemplate\":\"Fraud Scenario=Legitimate Transaction\\u003cbr\\u003eMonth=%{x}\\u003cbr\\u003eNumber of Transactions=%{y}\\u003cextra\\u003e\\u003c\\u002fextra\\u003e\",\"legendgroup\":\"Legitimate Transaction\",\"marker\":{\"color\":\"#EF553B\",\"pattern\":{\"shape\":\"\"}},\"name\":\"Legitimate Transaction\",\"offsetgroup\":\"Legitimate Transaction\",\"orientation\":\"v\",\"showlegend\":true,\"textposition\":\"auto\",\"x\":[1,2,3,4,5,6,7],\"xaxis\":\"x\",\"y\":[258376,232475,256532,248685,256655,248986,16477],\"yaxis\":\"y\",\"type\":\"bar\"},{\"alignmentgroup\":\"True\",\"hovertemplate\":\"Fraud Scenario=Fraudulent Transaction\\u003cbr\\u003eMonth=%{x}\\u003cbr\\u003eNumber of Transactions=%{y}\\u003cextra\\u003e\\u003c\\u002fextra\\u003e\",\"legendgroup\":\"Fraudulent Transaction\",\"marker\":{\"color\":\"#00cc96\",\"pattern\":{\"shape\":\"\"}},\"name\":\"Fraudulent Transaction\",\"offsetgroup\":\"Fraudulent Transaction\",\"orientation\":\"v\",\"showlegend\":true,\"textposition\":\"auto\",\"x\":[1,2,3,4,5,6,7],\"xaxis\":\"x\",\"y\":[39264,36195,40164,38679,40218,38854,2595],\"yaxis\":\"y\",\"type\":\"bar\"}],                        {\"template\":{\"data\":{\"histogram2dcontour\":[{\"type\":\"histogram2dcontour\",\"colorbar\":{\"outlinewidth\":0,\"ticks\":\"\"},\"colorscale\":[[0.0,\"#0d0887\"],[0.1111111111111111,\"#46039f\"],[0.2222222222222222,\"#7201a8\"],[0.3333333333333333,\"#9c179e\"],[0.4444444444444444,\"#bd3786\"],[0.5555555555555556,\"#d8576b\"],[0.6666666666666666,\"#ed7953\"],[0.7777777777777778,\"#fb9f3a\"],[0.8888888888888888,\"#fdca26\"],[1.0,\"#f0f921\"]]}],\"choropleth\":[{\"type\":\"choropleth\",\"colorbar\":{\"outlinewidth\":0,\"ticks\":\"\"}}],\"histogram2d\":[{\"type\":\"histogram2d\",\"colorbar\":{\"outlinewidth\":0,\"ticks\":\"\"},\"colorscale\":[[0.0,\"#0d0887\"],[0.1111111111111111,\"#46039f\"],[0.2222222222222222,\"#7201a8\"],[0.3333333333333333,\"#9c179e\"],[0.4444444444444444,\"#bd3786\"],[0.5555555555555556,\"#d8576b\"],[0.6666666666666666,\"#ed7953\"],[0.7777777777777778,\"#fb9f3a\"],[0.8888888888888888,\"#fdca26\"],[1.0,\"#f0f921\"]]}],\"heatmap\":[{\"type\":\"heatmap\",\"colorbar\":{\"outlinewidth\":0,\"ticks\":\"\"},\"colorscale\":[[0.0,\"#0d0887\"],[0.1111111111111111,\"#46039f\"],[0.2222222222222222,\"#7201a8\"],[0.3333333333333333,\"#9c179e\"],[0.4444444444444444,\"#bd3786\"],[0.5555555555555556,\"#d8576b\"],[0.6666666666666666,\"#ed7953\"],[0.7777777777777778,\"#fb9f3a\"],[0.8888888888888888,\"#fdca26\"],[1.0,\"#f0f921\"]]}],\"heatmapgl\":[{\"type\":\"heatmapgl\",\"colorbar\":{\"outlinewidth\":0,\"ticks\":\"\"},\"colorscale\":[[0.0,\"#0d0887\"],[0.1111111111111111,\"#46039f\"],[0.2222222222222222,\"#7201a8\"],[0.3333333333333333,\"#9c179e\"],[0.4444444444444444,\"#bd3786\"],[0.5555555555555556,\"#d8576b\"],[0.6666666666666666,\"#ed7953\"],[0.7777777777777778,\"#fb9f3a\"],[0.8888888888888888,\"#fdca26\"],[1.0,\"#f0f921\"]]}],\"contourcarpet\":[{\"type\":\"contourcarpet\",\"colorbar\":{\"outlinewidth\":0,\"ticks\":\"\"}}],\"contour\":[{\"type\":\"contour\",\"colorbar\":{\"outlinewidth\":0,\"ticks\":\"\"},\"colorscale\":[[0.0,\"#0d0887\"],[0.1111111111111111,\"#46039f\"],[0.2222222222222222,\"#7201a8\"],[0.3333333333333333,\"#9c179e\"],[0.4444444444444444,\"#bd3786\"],[0.5555555555555556,\"#d8576b\"],[0.6666666666666666,\"#ed7953\"],[0.7777777777777778,\"#fb9f3a\"],[0.8888888888888888,\"#fdca26\"],[1.0,\"#f0f921\"]]}],\"surface\":[{\"type\":\"surface\",\"colorbar\":{\"outlinewidth\":0,\"ticks\":\"\"},\"colorscale\":[[0.0,\"#0d0887\"],[0.1111111111111111,\"#46039f\"],[0.2222222222222222,\"#7201a8\"],[0.3333333333333333,\"#9c179e\"],[0.4444444444444444,\"#bd3786\"],[0.5555555555555556,\"#d8576b\"],[0.6666666666666666,\"#ed7953\"],[0.7777777777777778,\"#fb9f3a\"],[0.8888888888888888,\"#fdca26\"],[1.0,\"#f0f921\"]]}],\"mesh3d\":[{\"type\":\"mesh3d\",\"colorbar\":{\"outlinewidth\":0,\"ticks\":\"\"}}],\"scatter\":[{\"fillpattern\":{\"fillmode\":\"overlay\",\"size\":10,\"solidity\":0.2},\"type\":\"scatter\"}],\"parcoords\":[{\"type\":\"parcoords\",\"line\":{\"colorbar\":{\"outlinewidth\":0,\"ticks\":\"\"}}}],\"scatterpolargl\":[{\"type\":\"scatterpolargl\",\"marker\":{\"colorbar\":{\"outlinewidth\":0,\"ticks\":\"\"}}}],\"bar\":[{\"error_x\":{\"color\":\"#2a3f5f\"},\"error_y\":{\"color\":\"#2a3f5f\"},\"marker\":{\"line\":{\"color\":\"#E5ECF6\",\"width\":0.5},\"pattern\":{\"fillmode\":\"overlay\",\"size\":10,\"solidity\":0.2}},\"type\":\"bar\"}],\"scattergeo\":[{\"type\":\"scattergeo\",\"marker\":{\"colorbar\":{\"outlinewidth\":0,\"ticks\":\"\"}}}],\"scatterpolar\":[{\"type\":\"scatterpolar\",\"marker\":{\"colorbar\":{\"outlinewidth\":0,\"ticks\":\"\"}}}],\"histogram\":[{\"marker\":{\"pattern\":{\"fillmode\":\"overlay\",\"size\":10,\"solidity\":0.2}},\"type\":\"histogram\"}],\"scattergl\":[{\"type\":\"scattergl\",\"marker\":{\"colorbar\":{\"outlinewidth\":0,\"ticks\":\"\"}}}],\"scatter3d\":[{\"type\":\"scatter3d\",\"line\":{\"colorbar\":{\"outlinewidth\":0,\"ticks\":\"\"}},\"marker\":{\"colorbar\":{\"outlinewidth\":0,\"ticks\":\"\"}}}],\"scattermapbox\":[{\"type\":\"scattermapbox\",\"marker\":{\"colorbar\":{\"outlinewidth\":0,\"ticks\":\"\"}}}],\"scatterternary\":[{\"type\":\"scatterternary\",\"marker\":{\"colorbar\":{\"outlinewidth\":0,\"ticks\":\"\"}}}],\"scattercarpet\":[{\"type\":\"scattercarpet\",\"marker\":{\"colorbar\":{\"outlinewidth\":0,\"ticks\":\"\"}}}],\"carpet\":[{\"aaxis\":{\"endlinecolor\":\"#2a3f5f\",\"gridcolor\":\"white\",\"linecolor\":\"white\",\"minorgridcolor\":\"white\",\"startlinecolor\":\"#2a3f5f\"},\"baxis\":{\"endlinecolor\":\"#2a3f5f\",\"gridcolor\":\"white\",\"linecolor\":\"white\",\"minorgridcolor\":\"white\",\"startlinecolor\":\"#2a3f5f\"},\"type\":\"carpet\"}],\"table\":[{\"cells\":{\"fill\":{\"color\":\"#EBF0F8\"},\"line\":{\"color\":\"white\"}},\"header\":{\"fill\":{\"color\":\"#C8D4E3\"},\"line\":{\"color\":\"white\"}},\"type\":\"table\"}],\"barpolar\":[{\"marker\":{\"line\":{\"color\":\"#E5ECF6\",\"width\":0.5},\"pattern\":{\"fillmode\":\"overlay\",\"size\":10,\"solidity\":0.2}},\"type\":\"barpolar\"}],\"pie\":[{\"automargin\":true,\"type\":\"pie\"}]},\"layout\":{\"autotypenumbers\":\"strict\",\"colorway\":[\"#636efa\",\"#EF553B\",\"#00cc96\",\"#ab63fa\",\"#FFA15A\",\"#19d3f3\",\"#FF6692\",\"#B6E880\",\"#FF97FF\",\"#FECB52\"],\"font\":{\"color\":\"#2a3f5f\"},\"hovermode\":\"closest\",\"hoverlabel\":{\"align\":\"left\"},\"paper_bgcolor\":\"white\",\"plot_bgcolor\":\"#E5ECF6\",\"polar\":{\"bgcolor\":\"#E5ECF6\",\"angularaxis\":{\"gridcolor\":\"white\",\"linecolor\":\"white\",\"ticks\":\"\"},\"radialaxis\":{\"gridcolor\":\"white\",\"linecolor\":\"white\",\"ticks\":\"\"}},\"ternary\":{\"bgcolor\":\"#E5ECF6\",\"aaxis\":{\"gridcolor\":\"white\",\"linecolor\":\"white\",\"ticks\":\"\"},\"baxis\":{\"gridcolor\":\"white\",\"linecolor\":\"white\",\"ticks\":\"\"},\"caxis\":{\"gridcolor\":\"white\",\"linecolor\":\"white\",\"ticks\":\"\"}},\"coloraxis\":{\"colorbar\":{\"outlinewidth\":0,\"ticks\":\"\"}},\"colorscale\":{\"sequential\":[[0.0,\"#0d0887\"],[0.1111111111111111,\"#46039f\"],[0.2222222222222222,\"#7201a8\"],[0.3333333333333333,\"#9c179e\"],[0.4444444444444444,\"#bd3786\"],[0.5555555555555556,\"#d8576b\"],[0.6666666666666666,\"#ed7953\"],[0.7777777777777778,\"#fb9f3a\"],[0.8888888888888888,\"#fdca26\"],[1.0,\"#f0f921\"]],\"sequentialminus\":[[0.0,\"#0d0887\"],[0.1111111111111111,\"#46039f\"],[0.2222222222222222,\"#7201a8\"],[0.3333333333333333,\"#9c179e\"],[0.4444444444444444,\"#bd3786\"],[0.5555555555555556,\"#d8576b\"],[0.6666666666666666,\"#ed7953\"],[0.7777777777777778,\"#fb9f3a\"],[0.8888888888888888,\"#fdca26\"],[1.0,\"#f0f921\"]],\"diverging\":[[0,\"#8e0152\"],[0.1,\"#c51b7d\"],[0.2,\"#de77ae\"],[0.3,\"#f1b6da\"],[0.4,\"#fde0ef\"],[0.5,\"#f7f7f7\"],[0.6,\"#e6f5d0\"],[0.7,\"#b8e186\"],[0.8,\"#7fbc41\"],[0.9,\"#4d9221\"],[1,\"#276419\"]]},\"xaxis\":{\"gridcolor\":\"white\",\"linecolor\":\"white\",\"ticks\":\"\",\"title\":{\"standoff\":15},\"zerolinecolor\":\"white\",\"automargin\":true,\"zerolinewidth\":2},\"yaxis\":{\"gridcolor\":\"white\",\"linecolor\":\"white\",\"ticks\":\"\",\"title\":{\"standoff\":15},\"zerolinecolor\":\"white\",\"automargin\":true,\"zerolinewidth\":2},\"scene\":{\"xaxis\":{\"backgroundcolor\":\"#E5ECF6\",\"gridcolor\":\"white\",\"linecolor\":\"white\",\"showbackground\":true,\"ticks\":\"\",\"zerolinecolor\":\"white\",\"gridwidth\":2},\"yaxis\":{\"backgroundcolor\":\"#E5ECF6\",\"gridcolor\":\"white\",\"linecolor\":\"white\",\"showbackground\":true,\"ticks\":\"\",\"zerolinecolor\":\"white\",\"gridwidth\":2},\"zaxis\":{\"backgroundcolor\":\"#E5ECF6\",\"gridcolor\":\"white\",\"linecolor\":\"white\",\"showbackground\":true,\"ticks\":\"\",\"zerolinecolor\":\"white\",\"gridwidth\":2}},\"shapedefaults\":{\"line\":{\"color\":\"#2a3f5f\"}},\"annotationdefaults\":{\"arrowcolor\":\"#2a3f5f\",\"arrowhead\":0,\"arrowwidth\":1},\"geo\":{\"bgcolor\":\"white\",\"landcolor\":\"#E5ECF6\",\"subunitcolor\":\"white\",\"showland\":true,\"showlakes\":true,\"lakecolor\":\"white\"},\"title\":{\"x\":0.05},\"mapbox\":{\"style\":\"light\"}}},\"xaxis\":{\"anchor\":\"y\",\"domain\":[0.0,1.0],\"title\":{\"text\":\"Month\"}},\"yaxis\":{\"anchor\":\"x\",\"domain\":[0.0,1.0],\"title\":{\"text\":\"Number of Transactions\"}},\"legend\":{\"title\":{\"text\":\"Fraud Scenario\"},\"tracegroupgap\":0},\"title\":{\"text\":\"Monthly Distribution of Transactions and Fraud Scenario\"},\"barmode\":\"stack\"},                        {\"responsive\": true}                    ).then(function(){\n",
              "                            \n",
              "var gd = document.getElementById('8bb836f6-e1d8-471b-bf81-509392790122');\n",
              "var x = new MutationObserver(function (mutations, observer) {{\n",
              "        var display = window.getComputedStyle(gd).display;\n",
              "        if (!display || display === 'none') {{\n",
              "            console.log([gd, 'removed!']);\n",
              "            Plotly.purge(gd);\n",
              "            observer.disconnect();\n",
              "        }}\n",
              "}});\n",
              "\n",
              "// Listen for the removal of the full notebook cells\n",
              "var notebookContainer = gd.closest('#notebook-container');\n",
              "if (notebookContainer) {{\n",
              "    x.observe(notebookContainer, {childList: true});\n",
              "}}\n",
              "\n",
              "// Listen for the clearing of the current output cell\n",
              "var outputEl = gd.closest('.output');\n",
              "if (outputEl) {{\n",
              "    x.observe(outputEl, {childList: true});\n",
              "}}\n",
              "\n",
              "                        })                };                            </script>        </div>\n",
              "</body>\n",
              "</html>"
            ]
          },
          "metadata": {}
        }
      ]
    },
    {
      "cell_type": "code",
      "source": [
        "# Change the dates' format, and the format of the TX_FRAUD_SCENARIO to be numerical, not string\n",
        "df_clean_3 = clean_df_2.copy()\n",
        "df_clean_3['TX_DATETIME'] = pd.to_datetime(df_clean_3['TX_DATETIME'], format='%Y-%m-%d %H:%M:%S')\n",
        "df_clean_3['Month'] = df_clean_3['TX_DATETIME'].dt.month\n",
        "df_clean_3['Day'] = df_clean_3['TX_DATETIME'].dt.day\n",
        "df_clean_3['Hour'] = df_clean_3['TX_DATETIME'].dt.hour\n",
        "df_clean_3 = df_clean_3.drop('TX_DATETIME', axis=1)\n",
        "df_clean_3['TX_FRAUD_SCENARIO'] = df_clean_3['TX_FRAUD_SCENARIO'].replace('Fraudulent Transaction', 1)\n",
        "df_clean_3['TX_FRAUD_SCENARIO'] = df_clean_3['TX_FRAUD_SCENARIO'].replace('Legitimate Transaction', 0)\n",
        "print(df_clean_3.head())\n",
        "print(df_clean_3['Day'].unique())"
      ],
      "metadata": {
        "colab": {
          "base_uri": "https://localhost:8080/"
        },
        "id": "r5q4Ksey4xV-",
        "outputId": "fee903df-9800-4769-9bb5-eff11714ea25"
      },
      "execution_count": 20,
      "outputs": [
        {
          "output_type": "stream",
          "name": "stdout",
          "text": [
            "   CUSTOMER_ID  TERMINAL_ID  TX_AMOUNT  TX_TIME_SECONDS  TX_TIME_DAYS  \\\n",
            "0          596         3156     533.07               31             0   \n",
            "1         4961         3412     808.56              130             0   \n",
            "2            2         1365    1442.94              476             0   \n",
            "3         4128         8737     620.65              569             0   \n",
            "4          927         9906     490.66              634             0   \n",
            "\n",
            "   TX_FRAUD_SCENARIO  Month  Day  Hour  \n",
            "0                  0      1    1     0  \n",
            "1                  0      1    1     0  \n",
            "2                  1      1    1     0  \n",
            "3                  0      1    1     0  \n",
            "4                  0      1    1     0  \n",
            "[ 1  2  3  4  5  6  7  8  9 10 11 12 13 14 15 16 17 18 19 20 21 22 23 24\n",
            " 25 26 27 28 29 30 31]\n"
          ]
        }
      ]
    },
    {
      "cell_type": "code",
      "source": [
        "#Splitting the data into test and training set\n",
        "from sklearn.model_selection import train_test_split\n",
        "\n",
        "training_set, test_set = train_test_split(df_clean_3, test_size=0.2, random_state=100)"
      ],
      "metadata": {
        "id": "VqFQjfkCL_jD"
      },
      "execution_count": 21,
      "outputs": []
    },
    {
      "cell_type": "code",
      "source": [
        "from imblearn.over_sampling import SMOTE\n",
        "\n",
        "def balance_data_with_smote(df, target_column):\n",
        "    \"\"\"\n",
        "    Balances the dataset using SMOTE to oversample the minority class.\n",
        "\n",
        "    :param df: The DataFrame containing the data.\n",
        "    :param target_column: The name of the target column for which the balancing is performed.\n",
        "    :return: A balanced DataFrame.\n",
        "    \"\"\"\n",
        "    balanced_data = df.copy()\n",
        "    balanced_x = balanced_data.drop(target_column, axis=1)\n",
        "    balanced_y = balanced_data[target_column]\n",
        "    smote = SMOTE(random_state=100, sampling_strategy='minority')\n",
        "    balanced_x, balanced_y = smote.fit_resample(balanced_x, balanced_y)\n",
        "    balanced_data = pd.concat([balanced_x, balanced_y], axis=1)\n",
        "    return balanced_data\n",
        "\n",
        "# Balance the dataset using SMOTE based on the 'TX_FRAUD_SCENARIO' column\n",
        "balanced_df = balance_data_with_smote(training_set, 'TX_FRAUD_SCENARIO')\n",
        "print(balanced_df.head())"
      ],
      "metadata": {
        "id": "uchdFNG7p57I",
        "colab": {
          "base_uri": "https://localhost:8080/"
        },
        "outputId": "87c57b3d-6ed4-43c7-dc46-576431b590d4"
      },
      "execution_count": 22,
      "outputs": [
        {
          "output_type": "stream",
          "name": "stdout",
          "text": [
            "   CUSTOMER_ID  TERMINAL_ID  TX_AMOUNT  TX_TIME_SECONDS  TX_TIME_DAYS  Month  \\\n",
            "0         2081         4907     772.45         11205175           129      5   \n",
            "1         1532         4125     677.48         11213695           129      5   \n",
            "2         2023         9459     441.47         10476112           121      5   \n",
            "3         4408         6840      79.66           644114             7      1   \n",
            "4         1405         5492      57.83         15239130           176      6   \n",
            "\n",
            "   Day  Hour  TX_FRAUD_SCENARIO  \n",
            "0   10    16                  0  \n",
            "1   10    18                  0  \n",
            "2    2     6                  0  \n",
            "3    8    10                  0  \n",
            "4   26     9                  0  \n"
          ]
        }
      ]
    },
    {
      "cell_type": "code",
      "source": [
        "def plot_data_imbalance(data_frame, target_column):\n",
        "    \"\"\"\n",
        "    Display a pie chart to illustrate the class imbalance in the target column.\n",
        "\n",
        "    :param data_frame: The DataFrame containing the data.\n",
        "    :param target_column: The name of the target column for which the imbalance should be illustrated.\n",
        "    \"\"\"\n",
        "    #categories = 'Legitimate Transaction', 'Fradulent Transaction(Internet + DAB + Retailer)'\n",
        "    #values = [legit, all_frauds]\n",
        "    plt.figure(figsize=(8, 8))\n",
        "    value_counts = data_frame[target_column].value_counts()\n",
        "    labels = {'Fraudulent Transaction': 1, 'Legitimate Transaction': 0}\n",
        "    sizes = value_counts.values\n",
        "\n",
        "    plt.pie(sizes, labels=labels, autopct='%1.1f%%', startangle=105, shadow=True)\n",
        "    plt.axis('equal')  # Equal aspect ratio ensures that pie is drawn as a circle.\n",
        "    plt.show()\n",
        "\n",
        "# Call the function to display the class imbalance in the 'TX_FRAUD_SCENARIO' column\n",
        "plot_data_imbalance(balanced_df, 'TX_FRAUD_SCENARIO')"
      ],
      "metadata": {
        "colab": {
          "base_uri": "https://localhost:8080/",
          "height": 653
        },
        "id": "zMQ9WT-LCcT9",
        "outputId": "541313d8-4826-4449-bd0a-1c126f058af7"
      },
      "execution_count": 23,
      "outputs": [
        {
          "output_type": "display_data",
          "data": {
            "text/plain": [
              "<Figure size 800x800 with 1 Axes>"
            ],
            "image/png": "[encoded data removed]"
          },
          "metadata": {}
        }
      ]
    },
    {
      "cell_type": "code",
      "source": [
        "# It's up to you to continue\n",
        "# Remember to look in the module subject for more information on what to do next and on the benefits of this module, the following exercises are no longer guided.\n",
        "# The overall goal is to reach 0.99 accuracy (on the test set)"
      ],
      "metadata": {
        "id": "0XB53G5_UIbl"
      },
      "execution_count": 24,
      "outputs": []
    },
    {
      "cell_type": "code",
      "source": [
        "# First trying out Logistic Regression, should reach 0.802 accuracy\n",
        "\n",
        "\n",
        "from sklearn.linear_model import LogisticRegression\n",
        "from sklearn.metrics import accuracy_score, confusion_matrix, classification_report\n",
        "\n",
        "X_train = balanced_df.drop('TX_FRAUD_SCENARIO', axis=1)\n",
        "y_train = balanced_df['TX_FRAUD_SCENARIO']\n",
        "X_test = test_set.drop('TX_FRAUD_SCENARIO', axis=1)\n",
        "y_test = test_set['TX_FRAUD_SCENARIO']\n",
        "\n",
        "\n",
        "logreg = LogisticRegression()\n",
        "logreg.fit(X_train, y_train)\n",
        "\n",
        "y_pred = logreg.predict(X_test)\n",
        "\n",
        "accuracy = accuracy_score(y_test, y_pred)\n",
        "print(f\"Logistic Regression model's accuracy on the test set: {accuracy}\")"
      ],
      "metadata": {
        "id": "mepQr_hEUMAj",
        "colab": {
          "base_uri": "https://localhost:8080/"
        },
        "outputId": "11884723-53df-49a0-d353-9c42723544cb"
      },
      "execution_count": 25,
      "outputs": [
        {
          "output_type": "stream",
          "name": "stdout",
          "text": [
            "Logistic Regression model's accuracy on the test set: 0.8379419150531168\n"
          ]
        }
      ]
    },
    {
      "cell_type": "code",
      "source": [
        "# 2nd: trying K-nearest Neighbours: should reach 0.973 accuracy\n",
        "\n",
        "from sklearn.neighbors import KNeighborsClassifier\n",
        "\n",
        "knn = KNeighborsClassifier(n_neighbors=5)\n",
        "knn.fit(X_train, y_train)\n",
        "\n",
        "y_pred = knn.predict(X_test)\n",
        "\n",
        "accuracy = accuracy_score(y_test, y_pred)\n",
        "print(f\"K-nearest Neighbours model's accuracy on the test set: {accuracy}\")\n",
        "print('Best so far: 0.9189285024239443 with n_neighbors = 5')"
      ],
      "metadata": {
        "colab": {
          "base_uri": "https://localhost:8080/"
        },
        "id": "PGmirwfD-OtY",
        "outputId": "ef7f0588-36cf-4f87-fd55-33a736fd1d48"
      },
      "execution_count": 26,
      "outputs": [
        {
          "output_type": "stream",
          "name": "stdout",
          "text": [
            "K-nearest Neighbours model's accuracy on the test set: 0.8496541069631817\n",
            "Best so far: 0.9189285024239443 with n_neighbors = 5\n"
          ]
        }
      ]
    },
    {
      "cell_type": "code",
      "source": [
        "#Scaling the data before trying the next method:\n",
        "\n",
        "from sklearn.preprocessing import StandardScaler\n",
        "\n",
        "scaler = StandardScaler()\n",
        "X_train_scaled = scaler.fit_transform(X_train)\n",
        "X_test_scaled = scaler.transform(X_test)"
      ],
      "metadata": {
        "id": "AZE44_zLSeY_"
      },
      "execution_count": 27,
      "outputs": []
    },
    {
      "cell_type": "code",
      "source": [
        "# 3rd: Trying Decision Tree - should reach  0.996\n",
        "\n",
        "from sklearn.tree import DecisionTreeClassifier\n",
        "\n",
        "dt = DecisionTreeClassifier(criterion='gini', random_state=100)\n",
        "dt.fit(X_train, y_train)\n",
        "\n",
        "y_pred = dt.predict(X_test)\n",
        "\n",
        "accuracy = accuracy_score(y_test, y_pred)\n",
        "print(f\"Decision Tree model's accuracy on the test set: {accuracy}\")\n",
        "print('Best so far: 0.966160287711656 with random_state = 100')"
      ],
      "metadata": {
        "colab": {
          "base_uri": "https://localhost:8080/"
        },
        "id": "7sFU4jmLBXMj",
        "outputId": "e7bd5579-05d0-4658-cf19-50e46e0507cb"
      },
      "execution_count": 28,
      "outputs": [
        {
          "output_type": "stream",
          "name": "stdout",
          "text": [
            "Decision Tree model's accuracy on the test set: 0.964167932708341\n",
            "Best so far: 0.966160287711656 with random_state = 100\n"
          ]
        }
      ]
    },
    {
      "cell_type": "code",
      "source": [
        "# 4th Trying XGBoost\n",
        "!pip install xgboost==2.1.1\n",
        "\n",
        "import xgboost as xgb\n",
        "from xgboost import XGBClassifier\n",
        "\n",
        "#dmatrix_train = xgb.DMatrix(X_train, label=y_train)\n",
        "#dmatrix_test = xgb.DMatrix(X_test, label=y_test)\n",
        "\n",
        "#params = {\n",
        "#    'objective': 'binary:logistic',\n",
        "#    'eval_metric': 'logloss',\n",
        "#    'eta': 0.2,\n",
        "#    'max_depth': 20,\n",
        "#    'lambda': 1,\n",
        "#    'min_child_weight': 1\n",
        "#}\n",
        "\n",
        "#iterations = 100\n",
        "#xgboost_model = xgb.train(params, dmatrix_train, iterations)\n",
        "\n",
        "xgboost_model = XGBClassifier(\n",
        "    objective='binary:logistic',\n",
        "    eval_metric='logloss',\n",
        "    eta=0.2,\n",
        "    max_depth=20,\n",
        "    iterations=100,\n",
        "    min_child_weight=1\n",
        ")\n",
        "\n",
        "xgboost_model.fit(X_train, y_train)  # Fit the model\n",
        "\n",
        "y_pred = xgboost_model.predict(X_test)\n",
        "#y_pred_binary = [round(value) for value in y_pred]\n",
        "\n",
        "#accuracy = accuracy_score(y_test, y_pred_binary)\n",
        "accuracy = accuracy_score(y_test, y_pred)\n",
        "print(f\"XGBoost model's accuracy on the test set: {accuracy}\")\n",
        "print('Best so far:  0.9823297969507483 Parameters: objective: binary:logistic, eval_metric: logloss, eta: 0.2, max_depth: 20, iterations: 100, lambda: 1, min_child_weight: 1')"
      ],
      "metadata": {
        "colab": {
          "base_uri": "https://localhost:8080/"
        },
        "id": "_ueMapHXE8T-",
        "outputId": "4b7a8154-8eac-4e56-be98-c0d1e68de464"
      },
      "execution_count": 38,
      "outputs": [
        {
          "output_type": "stream",
          "name": "stdout",
          "text": [
            "Requirement already satisfied: xgboost==2.1.1 in /usr/local/lib/python3.10/dist-packages (2.1.1)\n",
            "Requirement already satisfied: numpy in /usr/local/lib/python3.10/dist-packages (from xgboost==2.1.1) (1.26.4)\n",
            "Requirement already satisfied: nvidia-nccl-cu12 in /usr/local/lib/python3.10/dist-packages (from xgboost==2.1.1) (2.22.3)\n",
            "Requirement already satisfied: scipy in /usr/local/lib/python3.10/dist-packages (from xgboost==2.1.1) (1.13.1)\n"
          ]
        },
        {
          "output_type": "stream",
          "name": "stderr",
          "text": [
            "/usr/local/lib/python3.10/dist-packages/xgboost/core.py:158: UserWarning:\n",
            "\n",
            "[12:47:48] WARNING: /workspace/src/learner.cc:740: \n",
            "Parameters: { \"iterations\" } are not used.\n",
            "\n",
            "\n"
          ]
        },
        {
          "output_type": "stream",
          "name": "stdout",
          "text": [
            "XGBoost model's accuracy on the test set: 0.9933272715352977\n",
            "Best so far:  0.9823297969507483 Parameters: objective: binary:logistic, eval_metric: logloss, eta: 0.2, max_depth: 20, iterations: 100, lambda: 1, min_child_weight: 1\n"
          ]
        }
      ]
    },
    {
      "cell_type": "code",
      "source": [
        "#Continuing with the data from the XGBoost training.\n",
        "#Calculating confusion matrix\n",
        "\n",
        "confusion = confusion_matrix(y_test, y_pred)\n",
        "print(\"Confusion Matrix:\")\n",
        "print(confusion)\n",
        "\n",
        "sns.heatmap(confusion, annot=True, fmt='d')\n",
        "plt.xlabel('Predicted')\n",
        "plt.ylabel('True')\n",
        "plt.show()"
      ],
      "metadata": {
        "colab": {
          "base_uri": "https://localhost:8080/",
          "height": 505
        },
        "id": "R_RHwqyBJ2pJ",
        "outputId": "1102612f-0b48-4de6-c920-076962276556"
      },
      "execution_count": 39,
      "outputs": [
        {
          "output_type": "stream",
          "name": "stdout",
          "text": [
            "Confusion Matrix:\n",
            "[[302872    662]\n",
            " [  1679  45618]]\n"
          ]
        },
        {
          "output_type": "display_data",
          "data": {
            "text/plain": [
              "<Figure size 640x480 with 2 Axes>"
            ],
            "image/png": "[encoded data removed]"
          },
          "metadata": {}
        }
      ]
    },
    {
      "cell_type": "code",
      "source": [
        "# Classification report:\n",
        "\n",
        "from sklearn.metrics import classification_report\n",
        "\n",
        "report = classification_report(y_test, y_pred_binary)\n",
        "print(\"Classification Report:\")\n",
        "print(report)"
      ],
      "metadata": {
        "colab": {
          "base_uri": "https://localhost:8080/"
        },
        "id": "UVgSwWi9J8R9",
        "outputId": "6e9b8eb2-e8a3-4702-d581-0bc4384cfdb8"
      },
      "execution_count": 40,
      "outputs": [
        {
          "output_type": "stream",
          "name": "stdout",
          "text": [
            "Classification Report:\n",
            "              precision    recall  f1-score   support\n",
            "\n",
            "           0       0.99      1.00      1.00    303534\n",
            "           1       0.99      0.96      0.97     47297\n",
            "\n",
            "    accuracy                           0.99    350831\n",
            "   macro avg       0.99      0.98      0.99    350831\n",
            "weighted avg       0.99      0.99      0.99    350831\n",
            "\n"
          ]
        }
      ]
    },
    {
      "cell_type": "code",
      "source": [
        "# Plotting a learning curve:\n",
        "\n",
        "from sklearn.model_selection import learning_curve\n",
        "import numpy as np\n",
        "\n",
        "X_all = df_clean_3.drop('TX_FRAUD_SCENARIO', axis=1)\n",
        "y_all = df_clean_3['TX_FRAUD_SCENARIO']\n",
        "\n",
        "train_sizes, train_scores, test_scores = learning_curve(xgboost_model, X_all, y_all, cv=5, scoring='accuracy', train_sizes=np.linspace(0.1, 1.0, 10))"
      ],
      "metadata": {
        "colab": {
          "base_uri": "https://localhost:8080/"
        },
        "id": "2G5O7tkqLwsw",
        "outputId": "b1ee80a8-351f-4d33-dc46-a29da1b6f381"
      },
      "execution_count": 41,
      "outputs": [
        {
          "output_type": "stream",
          "name": "stderr",
          "text": [
            "/usr/local/lib/python3.10/dist-packages/xgboost/core.py:158: UserWarning:\n",
            "\n",
            "[12:49:56] WARNING: /workspace/src/learner.cc:740: \n",
            "Parameters: { \"iterations\" } are not used.\n",
            "\n",
            "\n",
            "/usr/local/lib/python3.10/dist-packages/xgboost/core.py:158: UserWarning:\n",
            "\n",
            "[12:50:00] WARNING: /workspace/src/learner.cc:740: \n",
            "Parameters: { \"iterations\" } are not used.\n",
            "\n",
            "\n",
            "/usr/local/lib/python3.10/dist-packages/xgboost/core.py:158: UserWarning:\n",
            "\n",
            "[12:50:07] WARNING: /workspace/src/learner.cc:740: \n",
            "Parameters: { \"iterations\" } are not used.\n",
            "\n",
            "\n",
            "/usr/local/lib/python3.10/dist-packages/xgboost/core.py:158: UserWarning:\n",
            "\n",
            "[12:50:17] WARNING: /workspace/src/learner.cc:740: \n",
            "Parameters: { \"iterations\" } are not used.\n",
            "\n",
            "\n",
            "/usr/local/lib/python3.10/dist-packages/xgboost/core.py:158: UserWarning:\n",
            "\n",
            "[12:50:32] WARNING: /workspace/src/learner.cc:740: \n",
            "Parameters: { \"iterations\" } are not used.\n",
            "\n",
            "\n",
            "/usr/local/lib/python3.10/dist-packages/xgboost/core.py:158: UserWarning:\n",
            "\n",
            "[12:50:52] WARNING: /workspace/src/learner.cc:740: \n",
            "Parameters: { \"iterations\" } are not used.\n",
            "\n",
            "\n",
            "/usr/local/lib/python3.10/dist-packages/xgboost/core.py:158: UserWarning:\n",
            "\n",
            "[12:51:12] WARNING: /workspace/src/learner.cc:740: \n",
            "Parameters: { \"iterations\" } are not used.\n",
            "\n",
            "\n",
            "/usr/local/lib/python3.10/dist-packages/xgboost/core.py:158: UserWarning:\n",
            "\n",
            "[12:51:37] WARNING: /workspace/src/learner.cc:740: \n",
            "Parameters: { \"iterations\" } are not used.\n",
            "\n",
            "\n",
            "/usr/local/lib/python3.10/dist-packages/xgboost/core.py:158: UserWarning:\n",
            "\n",
            "[12:52:05] WARNING: /workspace/src/learner.cc:740: \n",
            "Parameters: { \"iterations\" } are not used.\n",
            "\n",
            "\n",
            "/usr/local/lib/python3.10/dist-packages/xgboost/core.py:158: UserWarning:\n",
            "\n",
            "[12:52:37] WARNING: /workspace/src/learner.cc:740: \n",
            "Parameters: { \"iterations\" } are not used.\n",
            "\n",
            "\n",
            "/usr/local/lib/python3.10/dist-packages/xgboost/core.py:158: UserWarning:\n",
            "\n",
            "[12:53:11] WARNING: /workspace/src/learner.cc:740: \n",
            "Parameters: { \"iterations\" } are not used.\n",
            "\n",
            "\n",
            "/usr/local/lib/python3.10/dist-packages/xgboost/core.py:158: UserWarning:\n",
            "\n",
            "[12:53:16] WARNING: /workspace/src/learner.cc:740: \n",
            "Parameters: { \"iterations\" } are not used.\n",
            "\n",
            "\n",
            "/usr/local/lib/python3.10/dist-packages/xgboost/core.py:158: UserWarning:\n",
            "\n",
            "[12:53:22] WARNING: /workspace/src/learner.cc:740: \n",
            "Parameters: { \"iterations\" } are not used.\n",
            "\n",
            "\n",
            "/usr/local/lib/python3.10/dist-packages/xgboost/core.py:158: UserWarning:\n",
            "\n",
            "[12:53:34] WARNING: /workspace/src/learner.cc:740: \n",
            "Parameters: { \"iterations\" } are not used.\n",
            "\n",
            "\n",
            "/usr/local/lib/python3.10/dist-packages/xgboost/core.py:158: UserWarning:\n",
            "\n",
            "[12:53:48] WARNING: /workspace/src/learner.cc:740: \n",
            "Parameters: { \"iterations\" } are not used.\n",
            "\n",
            "\n",
            "/usr/local/lib/python3.10/dist-packages/xgboost/core.py:158: UserWarning:\n",
            "\n",
            "[12:54:16] WARNING: /workspace/src/learner.cc:740: \n",
            "Parameters: { \"iterations\" } are not used.\n",
            "\n",
            "\n",
            "/usr/local/lib/python3.10/dist-packages/xgboost/core.py:158: UserWarning:\n",
            "\n",
            "[12:54:37] WARNING: /workspace/src/learner.cc:740: \n",
            "Parameters: { \"iterations\" } are not used.\n",
            "\n",
            "\n",
            "/usr/local/lib/python3.10/dist-packages/xgboost/core.py:158: UserWarning:\n",
            "\n",
            "[12:55:02] WARNING: /workspace/src/learner.cc:740: \n",
            "Parameters: { \"iterations\" } are not used.\n",
            "\n",
            "\n",
            "/usr/local/lib/python3.10/dist-packages/xgboost/core.py:158: UserWarning:\n",
            "\n",
            "[12:55:30] WARNING: /workspace/src/learner.cc:740: \n",
            "Parameters: { \"iterations\" } are not used.\n",
            "\n",
            "\n",
            "/usr/local/lib/python3.10/dist-packages/xgboost/core.py:158: UserWarning:\n",
            "\n",
            "[12:56:04] WARNING: /workspace/src/learner.cc:740: \n",
            "Parameters: { \"iterations\" } are not used.\n",
            "\n",
            "\n",
            "/usr/local/lib/python3.10/dist-packages/xgboost/core.py:158: UserWarning:\n",
            "\n",
            "[12:56:37] WARNING: /workspace/src/learner.cc:740: \n",
            "Parameters: { \"iterations\" } are not used.\n",
            "\n",
            "\n",
            "/usr/local/lib/python3.10/dist-packages/xgboost/core.py:158: UserWarning:\n",
            "\n",
            "[12:56:40] WARNING: /workspace/src/learner.cc:740: \n",
            "Parameters: { \"iterations\" } are not used.\n",
            "\n",
            "\n",
            "/usr/local/lib/python3.10/dist-packages/xgboost/core.py:158: UserWarning:\n",
            "\n",
            "[12:56:49] WARNING: /workspace/src/learner.cc:740: \n",
            "Parameters: { \"iterations\" } are not used.\n",
            "\n",
            "\n",
            "/usr/local/lib/python3.10/dist-packages/xgboost/core.py:158: UserWarning:\n",
            "\n",
            "[12:57:00] WARNING: /workspace/src/learner.cc:740: \n",
            "Parameters: { \"iterations\" } are not used.\n",
            "\n",
            "\n",
            "/usr/local/lib/python3.10/dist-packages/xgboost/core.py:158: UserWarning:\n",
            "\n",
            "[12:57:13] WARNING: /workspace/src/learner.cc:740: \n",
            "Parameters: { \"iterations\" } are not used.\n",
            "\n",
            "\n",
            "/usr/local/lib/python3.10/dist-packages/xgboost/core.py:158: UserWarning:\n",
            "\n",
            "[12:57:30] WARNING: /workspace/src/learner.cc:740: \n",
            "Parameters: { \"iterations\" } are not used.\n",
            "\n",
            "\n",
            "/usr/local/lib/python3.10/dist-packages/xgboost/core.py:158: UserWarning:\n",
            "\n",
            "[12:57:49] WARNING: /workspace/src/learner.cc:740: \n",
            "Parameters: { \"iterations\" } are not used.\n",
            "\n",
            "\n",
            "/usr/local/lib/python3.10/dist-packages/xgboost/core.py:158: UserWarning:\n",
            "\n",
            "[12:58:14] WARNING: /workspace/src/learner.cc:740: \n",
            "Parameters: { \"iterations\" } are not used.\n",
            "\n",
            "\n",
            "/usr/local/lib/python3.10/dist-packages/xgboost/core.py:158: UserWarning:\n",
            "\n",
            "[12:58:42] WARNING: /workspace/src/learner.cc:740: \n",
            "Parameters: { \"iterations\" } are not used.\n",
            "\n",
            "\n",
            "/usr/local/lib/python3.10/dist-packages/xgboost/core.py:158: UserWarning:\n",
            "\n",
            "[12:59:13] WARNING: /workspace/src/learner.cc:740: \n",
            "Parameters: { \"iterations\" } are not used.\n",
            "\n",
            "\n",
            "/usr/local/lib/python3.10/dist-packages/xgboost/core.py:158: UserWarning:\n",
            "\n",
            "[12:59:45] WARNING: /workspace/src/learner.cc:740: \n",
            "Parameters: { \"iterations\" } are not used.\n",
            "\n",
            "\n",
            "/usr/local/lib/python3.10/dist-packages/xgboost/core.py:158: UserWarning:\n",
            "\n",
            "[12:59:49] WARNING: /workspace/src/learner.cc:740: \n",
            "Parameters: { \"iterations\" } are not used.\n",
            "\n",
            "\n",
            "/usr/local/lib/python3.10/dist-packages/xgboost/core.py:158: UserWarning:\n",
            "\n",
            "[12:59:56] WARNING: /workspace/src/learner.cc:740: \n",
            "Parameters: { \"iterations\" } are not used.\n",
            "\n",
            "\n",
            "/usr/local/lib/python3.10/dist-packages/xgboost/core.py:158: UserWarning:\n",
            "\n",
            "[13:00:07] WARNING: /workspace/src/learner.cc:740: \n",
            "Parameters: { \"iterations\" } are not used.\n",
            "\n",
            "\n",
            "/usr/local/lib/python3.10/dist-packages/xgboost/core.py:158: UserWarning:\n",
            "\n",
            "[13:00:21] WARNING: /workspace/src/learner.cc:740: \n",
            "Parameters: { \"iterations\" } are not used.\n",
            "\n",
            "\n",
            "/usr/local/lib/python3.10/dist-packages/xgboost/core.py:158: UserWarning:\n",
            "\n",
            "[13:00:37] WARNING: /workspace/src/learner.cc:740: \n",
            "Parameters: { \"iterations\" } are not used.\n",
            "\n",
            "\n",
            "/usr/local/lib/python3.10/dist-packages/xgboost/core.py:158: UserWarning:\n",
            "\n",
            "[13:00:56] WARNING: /workspace/src/learner.cc:740: \n",
            "Parameters: { \"iterations\" } are not used.\n",
            "\n",
            "\n",
            "/usr/local/lib/python3.10/dist-packages/xgboost/core.py:158: UserWarning:\n",
            "\n",
            "[13:01:22] WARNING: /workspace/src/learner.cc:740: \n",
            "Parameters: { \"iterations\" } are not used.\n",
            "\n",
            "\n",
            "/usr/local/lib/python3.10/dist-packages/xgboost/core.py:158: UserWarning:\n",
            "\n",
            "[13:01:50] WARNING: /workspace/src/learner.cc:740: \n",
            "Parameters: { \"iterations\" } are not used.\n",
            "\n",
            "\n",
            "/usr/local/lib/python3.10/dist-packages/xgboost/core.py:158: UserWarning:\n",
            "\n",
            "[13:02:21] WARNING: /workspace/src/learner.cc:740: \n",
            "Parameters: { \"iterations\" } are not used.\n",
            "\n",
            "\n",
            "/usr/local/lib/python3.10/dist-packages/xgboost/core.py:158: UserWarning:\n",
            "\n",
            "[13:02:57] WARNING: /workspace/src/learner.cc:740: \n",
            "Parameters: { \"iterations\" } are not used.\n",
            "\n",
            "\n",
            "/usr/local/lib/python3.10/dist-packages/xgboost/core.py:158: UserWarning:\n",
            "\n",
            "[13:03:00] WARNING: /workspace/src/learner.cc:740: \n",
            "Parameters: { \"iterations\" } are not used.\n",
            "\n",
            "\n",
            "/usr/local/lib/python3.10/dist-packages/xgboost/core.py:158: UserWarning:\n",
            "\n",
            "[13:03:06] WARNING: /workspace/src/learner.cc:740: \n",
            "Parameters: { \"iterations\" } are not used.\n",
            "\n",
            "\n",
            "/usr/local/lib/python3.10/dist-packages/xgboost/core.py:158: UserWarning:\n",
            "\n",
            "[13:03:17] WARNING: /workspace/src/learner.cc:740: \n",
            "Parameters: { \"iterations\" } are not used.\n",
            "\n",
            "\n",
            "/usr/local/lib/python3.10/dist-packages/xgboost/core.py:158: UserWarning:\n",
            "\n",
            "[13:03:31] WARNING: /workspace/src/learner.cc:740: \n",
            "Parameters: { \"iterations\" } are not used.\n",
            "\n",
            "\n",
            "/usr/local/lib/python3.10/dist-packages/xgboost/core.py:158: UserWarning:\n",
            "\n",
            "[13:03:48] WARNING: /workspace/src/learner.cc:740: \n",
            "Parameters: { \"iterations\" } are not used.\n",
            "\n",
            "\n",
            "/usr/local/lib/python3.10/dist-packages/xgboost/core.py:158: UserWarning:\n",
            "\n",
            "[13:04:09] WARNING: /workspace/src/learner.cc:740: \n",
            "Parameters: { \"iterations\" } are not used.\n",
            "\n",
            "\n",
            "/usr/local/lib/python3.10/dist-packages/xgboost/core.py:158: UserWarning:\n",
            "\n",
            "[13:04:34] WARNING: /workspace/src/learner.cc:740: \n",
            "Parameters: { \"iterations\" } are not used.\n",
            "\n",
            "\n",
            "/usr/local/lib/python3.10/dist-packages/xgboost/core.py:158: UserWarning:\n",
            "\n",
            "[13:05:02] WARNING: /workspace/src/learner.cc:740: \n",
            "Parameters: { \"iterations\" } are not used.\n",
            "\n",
            "\n",
            "/usr/local/lib/python3.10/dist-packages/xgboost/core.py:158: UserWarning:\n",
            "\n",
            "[13:05:34] WARNING: /workspace/src/learner.cc:740: \n",
            "Parameters: { \"iterations\" } are not used.\n",
            "\n",
            "\n"
          ]
        }
      ]
    }
  ]
}